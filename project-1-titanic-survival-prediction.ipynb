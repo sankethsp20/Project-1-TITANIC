{
 "cells": [
  {
   "cell_type": "markdown",
   "id": "7e1ec445",
   "metadata": {
    "papermill": {
     "duration": 0.021838,
     "end_time": "2023-12-01T14:25:02.889955",
     "exception": false,
     "start_time": "2023-12-01T14:25:02.868117",
     "status": "completed"
    },
    "tags": []
   },
   "source": [
    "<div style=\"text-align: center;\">\n",
    "  <h1>📚 Importing Required Libraries</h1>\n",
    "</div>\n",
    "\n",
    " **Pandas, NumPy** (Dataset Acquisition , Data Exploration and Preprocessing)                                                   \n",
    " **Matplotlib, Seaborn** (Data Visualization, Model Interpretation)   \n",
    " **Scikit-Learn** (Data Splitting,Model Selection,Model Training,Model Evaluation, Model Interpretation) "
   ]
  },
  {
   "cell_type": "code",
   "execution_count": 1,
   "id": "f8670b39",
   "metadata": {
    "execution": {
     "iopub.execute_input": "2023-12-01T14:25:02.934755Z",
     "iopub.status.busy": "2023-12-01T14:25:02.934313Z",
     "iopub.status.idle": "2023-12-01T14:25:06.604507Z",
     "shell.execute_reply": "2023-12-01T14:25:06.603292Z"
    },
    "papermill": {
     "duration": 3.696075,
     "end_time": "2023-12-01T14:25:06.607382",
     "exception": false,
     "start_time": "2023-12-01T14:25:02.911307",
     "status": "completed"
    },
    "tags": []
   },
   "outputs": [],
   "source": [
    "import numpy as np\n",
    "import pandas as pd\n",
    "import matplotlib.pyplot as plt\n",
    "import seaborn as sns\n",
    "from sklearn.model_selection import train_test_split\n",
    "from sklearn.linear_model import LogisticRegression\n",
    "from sklearn.svm import SVC\n",
    "from sklearn.naive_bayes import GaussianNB\n",
    "from sklearn.linear_model import RidgeClassifier\n",
    "from sklearn.neighbors import KNeighborsClassifier\n",
    "\n"
   ]
  },
  {
   "cell_type": "markdown",
   "id": "ae87b8b0",
   "metadata": {
    "papermill": {
     "duration": 0.021385,
     "end_time": "2023-12-01T14:25:06.650363",
     "exception": false,
     "start_time": "2023-12-01T14:25:06.628978",
     "status": "completed"
    },
    "tags": []
   },
   "source": [
    "\n",
    "<div style=\"text-align: center;\">\n",
    "  <h2>🔍 Data Exploration</h2>\n",
    "</div>\n",
    "\n"
   ]
  },
  {
   "cell_type": "markdown",
   "id": "9f31e054",
   "metadata": {
    "papermill": {
     "duration": 0.021644,
     "end_time": "2023-12-01T14:25:06.693710",
     "exception": false,
     "start_time": "2023-12-01T14:25:06.672066",
     "status": "completed"
    },
    "tags": []
   },
   "source": [
    "📂 **Dataset Acquisition**\n"
   ]
  },
  {
   "cell_type": "code",
   "execution_count": 2,
   "id": "50454e82",
   "metadata": {
    "execution": {
     "iopub.execute_input": "2023-12-01T14:25:06.740190Z",
     "iopub.status.busy": "2023-12-01T14:25:06.739550Z",
     "iopub.status.idle": "2023-12-01T14:25:06.765400Z",
     "shell.execute_reply": "2023-12-01T14:25:06.764285Z"
    },
    "papermill": {
     "duration": 0.053015,
     "end_time": "2023-12-01T14:25:06.768182",
     "exception": false,
     "start_time": "2023-12-01T14:25:06.715167",
     "status": "completed"
    },
    "tags": []
   },
   "outputs": [
    {
     "name": "stdout",
     "output_type": "stream",
     "text": [
      "(418, 12)\n"
     ]
    }
   ],
   "source": [
    "df = pd.read_csv('/kaggle/input/test-file/tested.csv')\n",
    "print(df.shape)\n"
   ]
  },
  {
   "cell_type": "code",
   "execution_count": 3,
   "id": "20517eaa",
   "metadata": {
    "execution": {
     "iopub.execute_input": "2023-12-01T14:25:06.813600Z",
     "iopub.status.busy": "2023-12-01T14:25:06.813163Z",
     "iopub.status.idle": "2023-12-01T14:25:06.848339Z",
     "shell.execute_reply": "2023-12-01T14:25:06.847163Z"
    },
    "papermill": {
     "duration": 0.060955,
     "end_time": "2023-12-01T14:25:06.851104",
     "exception": false,
     "start_time": "2023-12-01T14:25:06.790149",
     "status": "completed"
    },
    "tags": []
   },
   "outputs": [
    {
     "data": {
      "text/html": [
       "<div>\n",
       "<style scoped>\n",
       "    .dataframe tbody tr th:only-of-type {\n",
       "        vertical-align: middle;\n",
       "    }\n",
       "\n",
       "    .dataframe tbody tr th {\n",
       "        vertical-align: top;\n",
       "    }\n",
       "\n",
       "    .dataframe thead th {\n",
       "        text-align: right;\n",
       "    }\n",
       "</style>\n",
       "<table border=\"1\" class=\"dataframe\">\n",
       "  <thead>\n",
       "    <tr style=\"text-align: right;\">\n",
       "      <th></th>\n",
       "      <th>PassengerId</th>\n",
       "      <th>Survived</th>\n",
       "      <th>Pclass</th>\n",
       "      <th>Name</th>\n",
       "      <th>Sex</th>\n",
       "      <th>Age</th>\n",
       "      <th>SibSp</th>\n",
       "      <th>Parch</th>\n",
       "      <th>Ticket</th>\n",
       "      <th>Fare</th>\n",
       "      <th>Cabin</th>\n",
       "      <th>Embarked</th>\n",
       "    </tr>\n",
       "  </thead>\n",
       "  <tbody>\n",
       "    <tr>\n",
       "      <th>0</th>\n",
       "      <td>892</td>\n",
       "      <td>0</td>\n",
       "      <td>3</td>\n",
       "      <td>Kelly, Mr. James</td>\n",
       "      <td>male</td>\n",
       "      <td>34.5</td>\n",
       "      <td>0</td>\n",
       "      <td>0</td>\n",
       "      <td>330911</td>\n",
       "      <td>7.8292</td>\n",
       "      <td>NaN</td>\n",
       "      <td>Q</td>\n",
       "    </tr>\n",
       "    <tr>\n",
       "      <th>1</th>\n",
       "      <td>893</td>\n",
       "      <td>1</td>\n",
       "      <td>3</td>\n",
       "      <td>Wilkes, Mrs. James (Ellen Needs)</td>\n",
       "      <td>female</td>\n",
       "      <td>47.0</td>\n",
       "      <td>1</td>\n",
       "      <td>0</td>\n",
       "      <td>363272</td>\n",
       "      <td>7.0000</td>\n",
       "      <td>NaN</td>\n",
       "      <td>S</td>\n",
       "    </tr>\n",
       "    <tr>\n",
       "      <th>2</th>\n",
       "      <td>894</td>\n",
       "      <td>0</td>\n",
       "      <td>2</td>\n",
       "      <td>Myles, Mr. Thomas Francis</td>\n",
       "      <td>male</td>\n",
       "      <td>62.0</td>\n",
       "      <td>0</td>\n",
       "      <td>0</td>\n",
       "      <td>240276</td>\n",
       "      <td>9.6875</td>\n",
       "      <td>NaN</td>\n",
       "      <td>Q</td>\n",
       "    </tr>\n",
       "    <tr>\n",
       "      <th>3</th>\n",
       "      <td>895</td>\n",
       "      <td>0</td>\n",
       "      <td>3</td>\n",
       "      <td>Wirz, Mr. Albert</td>\n",
       "      <td>male</td>\n",
       "      <td>27.0</td>\n",
       "      <td>0</td>\n",
       "      <td>0</td>\n",
       "      <td>315154</td>\n",
       "      <td>8.6625</td>\n",
       "      <td>NaN</td>\n",
       "      <td>S</td>\n",
       "    </tr>\n",
       "    <tr>\n",
       "      <th>4</th>\n",
       "      <td>896</td>\n",
       "      <td>1</td>\n",
       "      <td>3</td>\n",
       "      <td>Hirvonen, Mrs. Alexander (Helga E Lindqvist)</td>\n",
       "      <td>female</td>\n",
       "      <td>22.0</td>\n",
       "      <td>1</td>\n",
       "      <td>1</td>\n",
       "      <td>3101298</td>\n",
       "      <td>12.2875</td>\n",
       "      <td>NaN</td>\n",
       "      <td>S</td>\n",
       "    </tr>\n",
       "    <tr>\n",
       "      <th>5</th>\n",
       "      <td>897</td>\n",
       "      <td>0</td>\n",
       "      <td>3</td>\n",
       "      <td>Svensson, Mr. Johan Cervin</td>\n",
       "      <td>male</td>\n",
       "      <td>14.0</td>\n",
       "      <td>0</td>\n",
       "      <td>0</td>\n",
       "      <td>7538</td>\n",
       "      <td>9.2250</td>\n",
       "      <td>NaN</td>\n",
       "      <td>S</td>\n",
       "    </tr>\n",
       "    <tr>\n",
       "      <th>6</th>\n",
       "      <td>898</td>\n",
       "      <td>1</td>\n",
       "      <td>3</td>\n",
       "      <td>Connolly, Miss. Kate</td>\n",
       "      <td>female</td>\n",
       "      <td>30.0</td>\n",
       "      <td>0</td>\n",
       "      <td>0</td>\n",
       "      <td>330972</td>\n",
       "      <td>7.6292</td>\n",
       "      <td>NaN</td>\n",
       "      <td>Q</td>\n",
       "    </tr>\n",
       "    <tr>\n",
       "      <th>7</th>\n",
       "      <td>899</td>\n",
       "      <td>0</td>\n",
       "      <td>2</td>\n",
       "      <td>Caldwell, Mr. Albert Francis</td>\n",
       "      <td>male</td>\n",
       "      <td>26.0</td>\n",
       "      <td>1</td>\n",
       "      <td>1</td>\n",
       "      <td>248738</td>\n",
       "      <td>29.0000</td>\n",
       "      <td>NaN</td>\n",
       "      <td>S</td>\n",
       "    </tr>\n",
       "    <tr>\n",
       "      <th>8</th>\n",
       "      <td>900</td>\n",
       "      <td>1</td>\n",
       "      <td>3</td>\n",
       "      <td>Abrahim, Mrs. Joseph (Sophie Halaut Easu)</td>\n",
       "      <td>female</td>\n",
       "      <td>18.0</td>\n",
       "      <td>0</td>\n",
       "      <td>0</td>\n",
       "      <td>2657</td>\n",
       "      <td>7.2292</td>\n",
       "      <td>NaN</td>\n",
       "      <td>C</td>\n",
       "    </tr>\n",
       "    <tr>\n",
       "      <th>9</th>\n",
       "      <td>901</td>\n",
       "      <td>0</td>\n",
       "      <td>3</td>\n",
       "      <td>Davies, Mr. John Samuel</td>\n",
       "      <td>male</td>\n",
       "      <td>21.0</td>\n",
       "      <td>2</td>\n",
       "      <td>0</td>\n",
       "      <td>A/4 48871</td>\n",
       "      <td>24.1500</td>\n",
       "      <td>NaN</td>\n",
       "      <td>S</td>\n",
       "    </tr>\n",
       "  </tbody>\n",
       "</table>\n",
       "</div>"
      ],
      "text/plain": [
       "   PassengerId  Survived  Pclass  \\\n",
       "0          892         0       3   \n",
       "1          893         1       3   \n",
       "2          894         0       2   \n",
       "3          895         0       3   \n",
       "4          896         1       3   \n",
       "5          897         0       3   \n",
       "6          898         1       3   \n",
       "7          899         0       2   \n",
       "8          900         1       3   \n",
       "9          901         0       3   \n",
       "\n",
       "                                           Name     Sex   Age  SibSp  Parch  \\\n",
       "0                              Kelly, Mr. James    male  34.5      0      0   \n",
       "1              Wilkes, Mrs. James (Ellen Needs)  female  47.0      1      0   \n",
       "2                     Myles, Mr. Thomas Francis    male  62.0      0      0   \n",
       "3                              Wirz, Mr. Albert    male  27.0      0      0   \n",
       "4  Hirvonen, Mrs. Alexander (Helga E Lindqvist)  female  22.0      1      1   \n",
       "5                    Svensson, Mr. Johan Cervin    male  14.0      0      0   \n",
       "6                          Connolly, Miss. Kate  female  30.0      0      0   \n",
       "7                  Caldwell, Mr. Albert Francis    male  26.0      1      1   \n",
       "8     Abrahim, Mrs. Joseph (Sophie Halaut Easu)  female  18.0      0      0   \n",
       "9                       Davies, Mr. John Samuel    male  21.0      2      0   \n",
       "\n",
       "      Ticket     Fare Cabin Embarked  \n",
       "0     330911   7.8292   NaN        Q  \n",
       "1     363272   7.0000   NaN        S  \n",
       "2     240276   9.6875   NaN        Q  \n",
       "3     315154   8.6625   NaN        S  \n",
       "4    3101298  12.2875   NaN        S  \n",
       "5       7538   9.2250   NaN        S  \n",
       "6     330972   7.6292   NaN        Q  \n",
       "7     248738  29.0000   NaN        S  \n",
       "8       2657   7.2292   NaN        C  \n",
       "9  A/4 48871  24.1500   NaN        S  "
      ]
     },
     "execution_count": 3,
     "metadata": {},
     "output_type": "execute_result"
    }
   ],
   "source": [
    "df.head(10)"
   ]
  },
  {
   "cell_type": "code",
   "execution_count": 4,
   "id": "f1bfe0fe",
   "metadata": {
    "execution": {
     "iopub.execute_input": "2023-12-01T14:25:06.897359Z",
     "iopub.status.busy": "2023-12-01T14:25:06.896972Z",
     "iopub.status.idle": "2023-12-01T14:25:06.933328Z",
     "shell.execute_reply": "2023-12-01T14:25:06.931731Z"
    },
    "papermill": {
     "duration": 0.062618,
     "end_time": "2023-12-01T14:25:06.935893",
     "exception": false,
     "start_time": "2023-12-01T14:25:06.873275",
     "status": "completed"
    },
    "tags": []
   },
   "outputs": [
    {
     "name": "stdout",
     "output_type": "stream",
     "text": [
      "<class 'pandas.core.frame.DataFrame'>\n",
      "RangeIndex: 418 entries, 0 to 417\n",
      "Data columns (total 12 columns):\n",
      " #   Column       Non-Null Count  Dtype  \n",
      "---  ------       --------------  -----  \n",
      " 0   PassengerId  418 non-null    int64  \n",
      " 1   Survived     418 non-null    int64  \n",
      " 2   Pclass       418 non-null    int64  \n",
      " 3   Name         418 non-null    object \n",
      " 4   Sex          418 non-null    object \n",
      " 5   Age          332 non-null    float64\n",
      " 6   SibSp        418 non-null    int64  \n",
      " 7   Parch        418 non-null    int64  \n",
      " 8   Ticket       418 non-null    object \n",
      " 9   Fare         417 non-null    float64\n",
      " 10  Cabin        91 non-null     object \n",
      " 11  Embarked     418 non-null    object \n",
      "dtypes: float64(2), int64(5), object(5)\n",
      "memory usage: 39.3+ KB\n",
      "None\n"
     ]
    }
   ],
   "source": [
    "print(df.info())"
   ]
  },
  {
   "cell_type": "code",
   "execution_count": 5,
   "id": "b064f2f5",
   "metadata": {
    "execution": {
     "iopub.execute_input": "2023-12-01T14:25:06.982755Z",
     "iopub.status.busy": "2023-12-01T14:25:06.981700Z",
     "iopub.status.idle": "2023-12-01T14:25:06.999045Z",
     "shell.execute_reply": "2023-12-01T14:25:06.997865Z"
    },
    "papermill": {
     "duration": 0.043679,
     "end_time": "2023-12-01T14:25:07.001831",
     "exception": false,
     "start_time": "2023-12-01T14:25:06.958152",
     "status": "completed"
    },
    "tags": []
   },
   "outputs": [
    {
     "data": {
      "text/plain": [
       "0      False\n",
       "1      False\n",
       "2      False\n",
       "3      False\n",
       "4      False\n",
       "       ...  \n",
       "413    False\n",
       "414    False\n",
       "415    False\n",
       "416    False\n",
       "417    False\n",
       "Length: 418, dtype: bool"
      ]
     },
     "execution_count": 5,
     "metadata": {},
     "output_type": "execute_result"
    }
   ],
   "source": [
    "df.duplicated()"
   ]
  },
  {
   "cell_type": "code",
   "execution_count": 6,
   "id": "e77abb20",
   "metadata": {
    "execution": {
     "iopub.execute_input": "2023-12-01T14:25:07.050033Z",
     "iopub.status.busy": "2023-12-01T14:25:07.049350Z",
     "iopub.status.idle": "2023-12-01T14:25:07.079451Z",
     "shell.execute_reply": "2023-12-01T14:25:07.078249Z"
    },
    "papermill": {
     "duration": 0.056682,
     "end_time": "2023-12-01T14:25:07.081895",
     "exception": false,
     "start_time": "2023-12-01T14:25:07.025213",
     "status": "completed"
    },
    "tags": []
   },
   "outputs": [
    {
     "data": {
      "text/html": [
       "<div>\n",
       "<style scoped>\n",
       "    .dataframe tbody tr th:only-of-type {\n",
       "        vertical-align: middle;\n",
       "    }\n",
       "\n",
       "    .dataframe tbody tr th {\n",
       "        vertical-align: top;\n",
       "    }\n",
       "\n",
       "    .dataframe thead th {\n",
       "        text-align: right;\n",
       "    }\n",
       "</style>\n",
       "<table border=\"1\" class=\"dataframe\">\n",
       "  <thead>\n",
       "    <tr style=\"text-align: right;\">\n",
       "      <th></th>\n",
       "      <th>PassengerId</th>\n",
       "      <th>Survived</th>\n",
       "      <th>Pclass</th>\n",
       "      <th>Name</th>\n",
       "      <th>Sex</th>\n",
       "      <th>Age</th>\n",
       "      <th>SibSp</th>\n",
       "      <th>Parch</th>\n",
       "      <th>Ticket</th>\n",
       "      <th>Fare</th>\n",
       "      <th>Cabin</th>\n",
       "      <th>Embarked</th>\n",
       "    </tr>\n",
       "  </thead>\n",
       "  <tbody>\n",
       "    <tr>\n",
       "      <th>0</th>\n",
       "      <td>False</td>\n",
       "      <td>False</td>\n",
       "      <td>False</td>\n",
       "      <td>False</td>\n",
       "      <td>False</td>\n",
       "      <td>False</td>\n",
       "      <td>False</td>\n",
       "      <td>False</td>\n",
       "      <td>False</td>\n",
       "      <td>False</td>\n",
       "      <td>True</td>\n",
       "      <td>False</td>\n",
       "    </tr>\n",
       "    <tr>\n",
       "      <th>1</th>\n",
       "      <td>False</td>\n",
       "      <td>False</td>\n",
       "      <td>False</td>\n",
       "      <td>False</td>\n",
       "      <td>False</td>\n",
       "      <td>False</td>\n",
       "      <td>False</td>\n",
       "      <td>False</td>\n",
       "      <td>False</td>\n",
       "      <td>False</td>\n",
       "      <td>True</td>\n",
       "      <td>False</td>\n",
       "    </tr>\n",
       "    <tr>\n",
       "      <th>2</th>\n",
       "      <td>False</td>\n",
       "      <td>False</td>\n",
       "      <td>False</td>\n",
       "      <td>False</td>\n",
       "      <td>False</td>\n",
       "      <td>False</td>\n",
       "      <td>False</td>\n",
       "      <td>False</td>\n",
       "      <td>False</td>\n",
       "      <td>False</td>\n",
       "      <td>True</td>\n",
       "      <td>False</td>\n",
       "    </tr>\n",
       "    <tr>\n",
       "      <th>3</th>\n",
       "      <td>False</td>\n",
       "      <td>False</td>\n",
       "      <td>False</td>\n",
       "      <td>False</td>\n",
       "      <td>False</td>\n",
       "      <td>False</td>\n",
       "      <td>False</td>\n",
       "      <td>False</td>\n",
       "      <td>False</td>\n",
       "      <td>False</td>\n",
       "      <td>True</td>\n",
       "      <td>False</td>\n",
       "    </tr>\n",
       "    <tr>\n",
       "      <th>4</th>\n",
       "      <td>False</td>\n",
       "      <td>False</td>\n",
       "      <td>False</td>\n",
       "      <td>False</td>\n",
       "      <td>False</td>\n",
       "      <td>False</td>\n",
       "      <td>False</td>\n",
       "      <td>False</td>\n",
       "      <td>False</td>\n",
       "      <td>False</td>\n",
       "      <td>True</td>\n",
       "      <td>False</td>\n",
       "    </tr>\n",
       "    <tr>\n",
       "      <th>...</th>\n",
       "      <td>...</td>\n",
       "      <td>...</td>\n",
       "      <td>...</td>\n",
       "      <td>...</td>\n",
       "      <td>...</td>\n",
       "      <td>...</td>\n",
       "      <td>...</td>\n",
       "      <td>...</td>\n",
       "      <td>...</td>\n",
       "      <td>...</td>\n",
       "      <td>...</td>\n",
       "      <td>...</td>\n",
       "    </tr>\n",
       "    <tr>\n",
       "      <th>413</th>\n",
       "      <td>False</td>\n",
       "      <td>False</td>\n",
       "      <td>False</td>\n",
       "      <td>False</td>\n",
       "      <td>False</td>\n",
       "      <td>True</td>\n",
       "      <td>False</td>\n",
       "      <td>False</td>\n",
       "      <td>False</td>\n",
       "      <td>False</td>\n",
       "      <td>True</td>\n",
       "      <td>False</td>\n",
       "    </tr>\n",
       "    <tr>\n",
       "      <th>414</th>\n",
       "      <td>False</td>\n",
       "      <td>False</td>\n",
       "      <td>False</td>\n",
       "      <td>False</td>\n",
       "      <td>False</td>\n",
       "      <td>False</td>\n",
       "      <td>False</td>\n",
       "      <td>False</td>\n",
       "      <td>False</td>\n",
       "      <td>False</td>\n",
       "      <td>False</td>\n",
       "      <td>False</td>\n",
       "    </tr>\n",
       "    <tr>\n",
       "      <th>415</th>\n",
       "      <td>False</td>\n",
       "      <td>False</td>\n",
       "      <td>False</td>\n",
       "      <td>False</td>\n",
       "      <td>False</td>\n",
       "      <td>False</td>\n",
       "      <td>False</td>\n",
       "      <td>False</td>\n",
       "      <td>False</td>\n",
       "      <td>False</td>\n",
       "      <td>True</td>\n",
       "      <td>False</td>\n",
       "    </tr>\n",
       "    <tr>\n",
       "      <th>416</th>\n",
       "      <td>False</td>\n",
       "      <td>False</td>\n",
       "      <td>False</td>\n",
       "      <td>False</td>\n",
       "      <td>False</td>\n",
       "      <td>True</td>\n",
       "      <td>False</td>\n",
       "      <td>False</td>\n",
       "      <td>False</td>\n",
       "      <td>False</td>\n",
       "      <td>True</td>\n",
       "      <td>False</td>\n",
       "    </tr>\n",
       "    <tr>\n",
       "      <th>417</th>\n",
       "      <td>False</td>\n",
       "      <td>False</td>\n",
       "      <td>False</td>\n",
       "      <td>False</td>\n",
       "      <td>False</td>\n",
       "      <td>True</td>\n",
       "      <td>False</td>\n",
       "      <td>False</td>\n",
       "      <td>False</td>\n",
       "      <td>False</td>\n",
       "      <td>True</td>\n",
       "      <td>False</td>\n",
       "    </tr>\n",
       "  </tbody>\n",
       "</table>\n",
       "<p>418 rows × 12 columns</p>\n",
       "</div>"
      ],
      "text/plain": [
       "     PassengerId  Survived  Pclass   Name    Sex    Age  SibSp  Parch  Ticket  \\\n",
       "0          False     False   False  False  False  False  False  False   False   \n",
       "1          False     False   False  False  False  False  False  False   False   \n",
       "2          False     False   False  False  False  False  False  False   False   \n",
       "3          False     False   False  False  False  False  False  False   False   \n",
       "4          False     False   False  False  False  False  False  False   False   \n",
       "..           ...       ...     ...    ...    ...    ...    ...    ...     ...   \n",
       "413        False     False   False  False  False   True  False  False   False   \n",
       "414        False     False   False  False  False  False  False  False   False   \n",
       "415        False     False   False  False  False  False  False  False   False   \n",
       "416        False     False   False  False  False   True  False  False   False   \n",
       "417        False     False   False  False  False   True  False  False   False   \n",
       "\n",
       "      Fare  Cabin  Embarked  \n",
       "0    False   True     False  \n",
       "1    False   True     False  \n",
       "2    False   True     False  \n",
       "3    False   True     False  \n",
       "4    False   True     False  \n",
       "..     ...    ...       ...  \n",
       "413  False   True     False  \n",
       "414  False  False     False  \n",
       "415  False   True     False  \n",
       "416  False   True     False  \n",
       "417  False   True     False  \n",
       "\n",
       "[418 rows x 12 columns]"
      ]
     },
     "execution_count": 6,
     "metadata": {},
     "output_type": "execute_result"
    }
   ],
   "source": [
    "df.isnull()"
   ]
  },
  {
   "cell_type": "markdown",
   "id": "c6a1916c",
   "metadata": {
    "papermill": {
     "duration": 0.023103,
     "end_time": "2023-12-01T14:25:07.127627",
     "exception": false,
     "start_time": "2023-12-01T14:25:07.104524",
     "status": "completed"
    },
    "tags": []
   },
   "source": [
    "<div style=\"text-align: center;\">\n",
    "  <h2>📊 Data Analysis</h2>\n",
    "</div>\n",
    "\n",
    "In this phase, we dive deeper into the dataset, perform various analyses, and prepare the data for modeling. Key tasks include data cleaning, encoding, and gaining insights through descriptive statistics and data visualization.\n"
   ]
  },
  {
   "cell_type": "markdown",
   "id": "dea763d3",
   "metadata": {
    "papermill": {
     "duration": 0.022741,
     "end_time": "2023-12-01T14:25:07.237500",
     "exception": false,
     "start_time": "2023-12-01T14:25:07.214759",
     "status": "completed"
    },
    "tags": []
   },
   "source": [
    "<div style=\"text-align: center;\">\n",
    "  <h2>🧹 Data Cleaning</h2>\n",
    "</div>\n"
   ]
  },
  {
   "cell_type": "markdown",
   "id": "577d4c10",
   "metadata": {
    "papermill": {
     "duration": 0.023588,
     "end_time": "2023-12-01T14:25:07.285183",
     "exception": false,
     "start_time": "2023-12-01T14:25:07.261595",
     "status": "completed"
    },
    "tags": []
   },
   "source": [
    "⚙️**Handling Missing Values**\n",
    "\n",
    "**Cabin** column, which has a high percentage of missing values (79%) if we use this column we need 79% values to precit so its not possible so we drop this column.\n",
    "\n",
    "**Fare** column have only 1 missing value Fills missing values in the 'Fare' column with the mean fare.\n",
    "\n",
    "**Age** column has 20% values is missing if we delete this column we loss 80% of data so Uses random imputation to fill missing values."
   ]
  },
  {
   "cell_type": "code",
   "execution_count": 7,
   "id": "f17303c2",
   "metadata": {
    "execution": {
     "iopub.execute_input": "2023-12-01T14:25:07.336543Z",
     "iopub.status.busy": "2023-12-01T14:25:07.336116Z",
     "iopub.status.idle": "2023-12-01T14:25:07.344044Z",
     "shell.execute_reply": "2023-12-01T14:25:07.342745Z"
    },
    "papermill": {
     "duration": 0.037849,
     "end_time": "2023-12-01T14:25:07.346882",
     "exception": false,
     "start_time": "2023-12-01T14:25:07.309033",
     "status": "completed"
    },
    "tags": []
   },
   "outputs": [],
   "source": [
    "df.drop(columns=['Cabin'],inplace=True)"
   ]
  },
  {
   "cell_type": "code",
   "execution_count": 8,
   "id": "d9ac0ff6",
   "metadata": {
    "execution": {
     "iopub.execute_input": "2023-12-01T14:25:07.397819Z",
     "iopub.status.busy": "2023-12-01T14:25:07.396982Z",
     "iopub.status.idle": "2023-12-01T14:25:07.403637Z",
     "shell.execute_reply": "2023-12-01T14:25:07.402713Z"
    },
    "papermill": {
     "duration": 0.035399,
     "end_time": "2023-12-01T14:25:07.406217",
     "exception": false,
     "start_time": "2023-12-01T14:25:07.370818",
     "status": "completed"
    },
    "tags": []
   },
   "outputs": [],
   "source": [
    "df['Fare'].fillna(df['Fare'].mean(),inplace=True)"
   ]
  },
  {
   "cell_type": "code",
   "execution_count": 9,
   "id": "78ed8b1e",
   "metadata": {
    "execution": {
     "iopub.execute_input": "2023-12-01T14:25:07.456055Z",
     "iopub.status.busy": "2023-12-01T14:25:07.455338Z",
     "iopub.status.idle": "2023-12-01T14:25:07.463072Z",
     "shell.execute_reply": "2023-12-01T14:25:07.462115Z"
    },
    "papermill": {
     "duration": 0.03557,
     "end_time": "2023-12-01T14:25:07.465878",
     "exception": false,
     "start_time": "2023-12-01T14:25:07.430308",
     "status": "completed"
    },
    "tags": []
   },
   "outputs": [],
   "source": [
    "\n",
    "test_age = np.random.randint(df['Age'].mean() - df['Age'].std(), df['Age'].mean() + df['Age'].std(), 86)\n"
   ]
  },
  {
   "cell_type": "code",
   "execution_count": 10,
   "id": "de11b670",
   "metadata": {
    "execution": {
     "iopub.execute_input": "2023-12-01T14:25:07.516756Z",
     "iopub.status.busy": "2023-12-01T14:25:07.516291Z",
     "iopub.status.idle": "2023-12-01T14:25:07.523897Z",
     "shell.execute_reply": "2023-12-01T14:25:07.522617Z"
    },
    "papermill": {
     "duration": 0.036835,
     "end_time": "2023-12-01T14:25:07.526812",
     "exception": false,
     "start_time": "2023-12-01T14:25:07.489977",
     "status": "completed"
    },
    "tags": []
   },
   "outputs": [
    {
     "name": "stderr",
     "output_type": "stream",
     "text": [
      "/tmp/ipykernel_20/2664177253.py:1: SettingWithCopyWarning: \n",
      "A value is trying to be set on a copy of a slice from a DataFrame\n",
      "\n",
      "See the caveats in the documentation: https://pandas.pydata.org/pandas-docs/stable/user_guide/indexing.html#returning-a-view-versus-a-copy\n",
      "  df['Age'][df['Age'].isnull()] = test_age\n"
     ]
    }
   ],
   "source": [
    " df['Age'][df['Age'].isnull()] = test_age "
   ]
  },
  {
   "cell_type": "code",
   "execution_count": 11,
   "id": "ffa6ef13",
   "metadata": {
    "execution": {
     "iopub.execute_input": "2023-12-01T14:25:07.576630Z",
     "iopub.status.busy": "2023-12-01T14:25:07.576164Z",
     "iopub.status.idle": "2023-12-01T14:25:07.586353Z",
     "shell.execute_reply": "2023-12-01T14:25:07.584946Z"
    },
    "papermill": {
     "duration": 0.038172,
     "end_time": "2023-12-01T14:25:07.589152",
     "exception": false,
     "start_time": "2023-12-01T14:25:07.550980",
     "status": "completed"
    },
    "tags": []
   },
   "outputs": [
    {
     "data": {
      "text/plain": [
       "Embarked\n",
       "S    270\n",
       "C    102\n",
       "Q     46\n",
       "Name: count, dtype: int64"
      ]
     },
     "execution_count": 11,
     "metadata": {},
     "output_type": "execute_result"
    }
   ],
   "source": [
    "df.Embarked.value_counts()\n"
   ]
  },
  {
   "cell_type": "code",
   "execution_count": 12,
   "id": "ebaef681",
   "metadata": {
    "execution": {
     "iopub.execute_input": "2023-12-01T14:25:07.640502Z",
     "iopub.status.busy": "2023-12-01T14:25:07.640048Z",
     "iopub.status.idle": "2023-12-01T14:25:07.646904Z",
     "shell.execute_reply": "2023-12-01T14:25:07.645771Z"
    },
    "papermill": {
     "duration": 0.035273,
     "end_time": "2023-12-01T14:25:07.649232",
     "exception": false,
     "start_time": "2023-12-01T14:25:07.613959",
     "status": "completed"
    },
    "tags": []
   },
   "outputs": [],
   "source": [
    "#  embark null fix\n",
    "data = [df]\n",
    "for dataset in data:\n",
    "    dataset.Embarked = dataset.Embarked.fillna('S')"
   ]
  },
  {
   "cell_type": "markdown",
   "id": "04bbe3a5",
   "metadata": {
    "papermill": {
     "duration": 0.02321,
     "end_time": "2023-12-01T14:25:07.695833",
     "exception": false,
     "start_time": "2023-12-01T14:25:07.672623",
     "status": "completed"
    },
    "tags": []
   },
   "source": [
    "🔢 **Data Encoding**"
   ]
  },
  {
   "cell_type": "code",
   "execution_count": 13,
   "id": "c4225f23",
   "metadata": {
    "execution": {
     "iopub.execute_input": "2023-12-01T14:25:07.745940Z",
     "iopub.status.busy": "2023-12-01T14:25:07.745441Z",
     "iopub.status.idle": "2023-12-01T14:25:07.755325Z",
     "shell.execute_reply": "2023-12-01T14:25:07.753909Z"
    },
    "papermill": {
     "duration": 0.037715,
     "end_time": "2023-12-01T14:25:07.758083",
     "exception": false,
     "start_time": "2023-12-01T14:25:07.720368",
     "status": "completed"
    },
    "tags": []
   },
   "outputs": [
    {
     "data": {
      "text/plain": [
       "Sex\n",
       "male      266\n",
       "female    152\n",
       "Name: count, dtype: int64"
      ]
     },
     "execution_count": 13,
     "metadata": {},
     "output_type": "execute_result"
    }
   ],
   "source": [
    "df['Sex'].value_counts()"
   ]
  },
  {
   "cell_type": "code",
   "execution_count": 14,
   "id": "c203d66d",
   "metadata": {
    "execution": {
     "iopub.execute_input": "2023-12-01T14:25:07.808260Z",
     "iopub.status.busy": "2023-12-01T14:25:07.807382Z",
     "iopub.status.idle": "2023-12-01T14:25:07.815024Z",
     "shell.execute_reply": "2023-12-01T14:25:07.814100Z"
    },
    "papermill": {
     "duration": 0.034973,
     "end_time": "2023-12-01T14:25:07.817154",
     "exception": false,
     "start_time": "2023-12-01T14:25:07.782181",
     "status": "completed"
    },
    "tags": []
   },
   "outputs": [],
   "source": [
    "#now we need to convert sex into integer value \n",
    "gendermap ={'male':0, 'female':1}\n",
    "data = [df]\n",
    "for dataset in data:\n",
    "    dataset['Sex'] =  dataset['Sex'].map(gendermap)\n",
    "\n"
   ]
  },
  {
   "cell_type": "code",
   "execution_count": 15,
   "id": "86b91787",
   "metadata": {
    "execution": {
     "iopub.execute_input": "2023-12-01T14:25:07.866719Z",
     "iopub.status.busy": "2023-12-01T14:25:07.866269Z",
     "iopub.status.idle": "2023-12-01T14:25:07.874303Z",
     "shell.execute_reply": "2023-12-01T14:25:07.873470Z"
    },
    "papermill": {
     "duration": 0.036088,
     "end_time": "2023-12-01T14:25:07.876660",
     "exception": false,
     "start_time": "2023-12-01T14:25:07.840572",
     "status": "completed"
    },
    "tags": []
   },
   "outputs": [
    {
     "data": {
      "text/plain": [
       "Embarked\n",
       "S    270\n",
       "C    102\n",
       "Q     46\n",
       "Name: count, dtype: int64"
      ]
     },
     "execution_count": 15,
     "metadata": {},
     "output_type": "execute_result"
    }
   ],
   "source": [
    "df['Embarked'].value_counts()"
   ]
  },
  {
   "cell_type": "code",
   "execution_count": 16,
   "id": "84a208e5",
   "metadata": {
    "execution": {
     "iopub.execute_input": "2023-12-01T14:25:07.927597Z",
     "iopub.status.busy": "2023-12-01T14:25:07.927121Z",
     "iopub.status.idle": "2023-12-01T14:25:07.934762Z",
     "shell.execute_reply": "2023-12-01T14:25:07.933585Z"
    },
    "papermill": {
     "duration": 0.036081,
     "end_time": "2023-12-01T14:25:07.937170",
     "exception": false,
     "start_time": "2023-12-01T14:25:07.901089",
     "status": "completed"
    },
    "tags": []
   },
   "outputs": [],
   "source": [
    "embarkmap={'C':0, 'Q':1 ,'S':2}\n",
    "data = [df]\n",
    "for dataset in data:\n",
    "    dataset['Embarked'] =  dataset['Embarked'].map(embarkmap)\n",
    "    "
   ]
  },
  {
   "cell_type": "code",
   "execution_count": 17,
   "id": "9ad8a2ba",
   "metadata": {
    "execution": {
     "iopub.execute_input": "2023-12-01T14:25:07.987523Z",
     "iopub.status.busy": "2023-12-01T14:25:07.987063Z",
     "iopub.status.idle": "2023-12-01T14:25:07.996574Z",
     "shell.execute_reply": "2023-12-01T14:25:07.995596Z"
    },
    "papermill": {
     "duration": 0.037761,
     "end_time": "2023-12-01T14:25:07.999041",
     "exception": false,
     "start_time": "2023-12-01T14:25:07.961280",
     "status": "completed"
    },
    "tags": []
   },
   "outputs": [
    {
     "data": {
      "text/plain": [
       "Embarked\n",
       "2    270\n",
       "0    102\n",
       "1     46\n",
       "Name: count, dtype: int64"
      ]
     },
     "execution_count": 17,
     "metadata": {},
     "output_type": "execute_result"
    }
   ],
   "source": [
    "df['Embarked'].value_counts()"
   ]
  },
  {
   "cell_type": "code",
   "execution_count": 18,
   "id": "94583329",
   "metadata": {
    "execution": {
     "iopub.execute_input": "2023-12-01T14:25:08.049484Z",
     "iopub.status.busy": "2023-12-01T14:25:08.049080Z",
     "iopub.status.idle": "2023-12-01T14:25:08.062223Z",
     "shell.execute_reply": "2023-12-01T14:25:08.060963Z"
    },
    "papermill": {
     "duration": 0.041596,
     "end_time": "2023-12-01T14:25:08.065301",
     "exception": false,
     "start_time": "2023-12-01T14:25:08.023705",
     "status": "completed"
    },
    "tags": []
   },
   "outputs": [
    {
     "name": "stdout",
     "output_type": "stream",
     "text": [
      "<class 'pandas.core.frame.DataFrame'>\n",
      "RangeIndex: 418 entries, 0 to 417\n",
      "Data columns (total 11 columns):\n",
      " #   Column       Non-Null Count  Dtype  \n",
      "---  ------       --------------  -----  \n",
      " 0   PassengerId  418 non-null    int64  \n",
      " 1   Survived     418 non-null    int64  \n",
      " 2   Pclass       418 non-null    int64  \n",
      " 3   Name         418 non-null    object \n",
      " 4   Sex          418 non-null    int64  \n",
      " 5   Age          418 non-null    float64\n",
      " 6   SibSp        418 non-null    int64  \n",
      " 7   Parch        418 non-null    int64  \n",
      " 8   Ticket       418 non-null    object \n",
      " 9   Fare         418 non-null    float64\n",
      " 10  Embarked     418 non-null    int64  \n",
      "dtypes: float64(2), int64(7), object(2)\n",
      "memory usage: 36.0+ KB\n"
     ]
    }
   ],
   "source": [
    "df.info()"
   ]
  },
  {
   "cell_type": "code",
   "execution_count": 19,
   "id": "113a2c48",
   "metadata": {
    "execution": {
     "iopub.execute_input": "2023-12-01T14:25:08.115247Z",
     "iopub.status.busy": "2023-12-01T14:25:08.114800Z",
     "iopub.status.idle": "2023-12-01T14:25:08.124890Z",
     "shell.execute_reply": "2023-12-01T14:25:08.123704Z"
    },
    "papermill": {
     "duration": 0.037755,
     "end_time": "2023-12-01T14:25:08.127112",
     "exception": false,
     "start_time": "2023-12-01T14:25:08.089357",
     "status": "completed"
    },
    "tags": []
   },
   "outputs": [
    {
     "data": {
      "text/plain": [
       "PassengerId    0\n",
       "Survived       0\n",
       "Pclass         0\n",
       "Name           0\n",
       "Sex            0\n",
       "Age            0\n",
       "SibSp          0\n",
       "Parch          0\n",
       "Ticket         0\n",
       "Fare           0\n",
       "Embarked       0\n",
       "dtype: int64"
      ]
     },
     "execution_count": 19,
     "metadata": {},
     "output_type": "execute_result"
    }
   ],
   "source": [
    "df.isnull().sum()"
   ]
  },
  {
   "cell_type": "markdown",
   "id": "d4a99054",
   "metadata": {
    "papermill": {
     "duration": 0.023716,
     "end_time": "2023-12-01T14:25:08.174910",
     "exception": false,
     "start_time": "2023-12-01T14:25:08.151194",
     "status": "completed"
    },
    "tags": []
   },
   "source": [
    "\n",
    "**🛠️ Data Preprocessing**\n",
    "\n"
   ]
  },
  {
   "cell_type": "code",
   "execution_count": 20,
   "id": "3e070c44",
   "metadata": {
    "execution": {
     "iopub.execute_input": "2023-12-01T14:25:08.228758Z",
     "iopub.status.busy": "2023-12-01T14:25:08.228327Z",
     "iopub.status.idle": "2023-12-01T14:25:08.254943Z",
     "shell.execute_reply": "2023-12-01T14:25:08.253992Z"
    },
    "papermill": {
     "duration": 0.057162,
     "end_time": "2023-12-01T14:25:08.257443",
     "exception": false,
     "start_time": "2023-12-01T14:25:08.200281",
     "status": "completed"
    },
    "tags": []
   },
   "outputs": [
    {
     "data": {
      "text/plain": [
       "Fare\n",
       "(-0.001, 7.796]     85\n",
       "(11.342, 21.679]    85\n",
       "(46.34, 512.329]    84\n",
       "(7.796, 11.342]     82\n",
       "(21.679, 46.34]     82\n",
       "Name: count, dtype: int64"
      ]
     },
     "execution_count": 20,
     "metadata": {},
     "output_type": "execute_result"
    }
   ],
   "source": [
    "# Data preprocessing on the 'Fare' column\n",
    "tempfare = df['Fare']\n",
    "tempfare = pd.qcut(tempfare, 5)\n",
    "tempfare.value_counts()"
   ]
  },
  {
   "cell_type": "code",
   "execution_count": 21,
   "id": "928d4d8d",
   "metadata": {
    "execution": {
     "iopub.execute_input": "2023-12-01T14:25:08.309104Z",
     "iopub.status.busy": "2023-12-01T14:25:08.308666Z",
     "iopub.status.idle": "2023-12-01T14:25:08.328335Z",
     "shell.execute_reply": "2023-12-01T14:25:08.326936Z"
    },
    "papermill": {
     "duration": 0.047636,
     "end_time": "2023-12-01T14:25:08.330667",
     "exception": false,
     "start_time": "2023-12-01T14:25:08.283031",
     "status": "completed"
    },
    "tags": []
   },
   "outputs": [
    {
     "data": {
      "text/plain": [
       "Fare\n",
       "0    85\n",
       "3    84\n",
       "4    84\n",
       "2    83\n",
       "1    82\n",
       "Name: count, dtype: int64"
      ]
     },
     "execution_count": 21,
     "metadata": {},
     "output_type": "execute_result"
    }
   ],
   "source": [
    "data = [df]\n",
    "for dataset in data:\n",
    "    dataset.loc[dataset['Fare'] <= 7.796, 'Fare'] = 0\n",
    "    dataset.loc[(dataset['Fare'] > 7.796) & (dataset['Fare'] <= 11.342), 'Fare'] = 1\n",
    "    dataset.loc[(dataset['Fare'] > 11.342) & (dataset['Fare'] <= 21.679), 'Fare'] = 2\n",
    "    dataset.loc[(dataset['Fare'] > 21.679) & (dataset['Fare'] <= 46.34), 'Fare'] = 3\n",
    "    dataset.loc[dataset['Fare'] > 46.34, 'Fare'] = 4\n",
    "\n",
    "    dataset['Fare'] = dataset['Fare'].astype(int)\n",
    "\n",
    "df['Fare'].value_counts()\n"
   ]
  },
  {
   "cell_type": "code",
   "execution_count": 22,
   "id": "a61343bf",
   "metadata": {
    "execution": {
     "iopub.execute_input": "2023-12-01T14:25:08.383523Z",
     "iopub.status.busy": "2023-12-01T14:25:08.382961Z",
     "iopub.status.idle": "2023-12-01T14:25:08.400867Z",
     "shell.execute_reply": "2023-12-01T14:25:08.399605Z"
    },
    "papermill": {
     "duration": 0.047437,
     "end_time": "2023-12-01T14:25:08.403632",
     "exception": false,
     "start_time": "2023-12-01T14:25:08.356195",
     "status": "completed"
    },
    "tags": []
   },
   "outputs": [
    {
     "data": {
      "text/plain": [
       "Age\n",
       "(20.0, 25.0]     88\n",
       "(31.0, 41.0]     86\n",
       "(0.169, 20.0]    85\n",
       "(25.0, 31.0]     83\n",
       "(41.0, 76.0]     76\n",
       "Name: count, dtype: int64"
      ]
     },
     "execution_count": 22,
     "metadata": {},
     "output_type": "execute_result"
    }
   ],
   "source": [
    "# Data preprocessing on the 'age' column\n",
    "tempage = df['Age']\n",
    "tempage = pd.qcut(tempage, 5)\n",
    "tempage.value_counts()"
   ]
  },
  {
   "cell_type": "code",
   "execution_count": 23,
   "id": "4bc1235d",
   "metadata": {
    "execution": {
     "iopub.execute_input": "2023-12-01T14:25:08.456307Z",
     "iopub.status.busy": "2023-12-01T14:25:08.455764Z",
     "iopub.status.idle": "2023-12-01T14:25:08.476167Z",
     "shell.execute_reply": "2023-12-01T14:25:08.475253Z"
    },
    "papermill": {
     "duration": 0.049642,
     "end_time": "2023-12-01T14:25:08.478669",
     "exception": false,
     "start_time": "2023-12-01T14:25:08.429027",
     "status": "completed"
    },
    "tags": []
   },
   "outputs": [
    {
     "data": {
      "text/plain": [
       "Age\n",
       "0     103\n",
       "3      86\n",
       "2      83\n",
       "1      70\n",
       "45      9\n",
       "42      7\n",
       "43      7\n",
       "55      6\n",
       "48      5\n",
       "47      5\n",
       "50      5\n",
       "60      4\n",
       "46      3\n",
       "49      3\n",
       "53      3\n",
       "64      3\n",
       "57      3\n",
       "63      2\n",
       "61      2\n",
       "54      2\n",
       "67      1\n",
       "76      1\n",
       "62      1\n",
       "58      1\n",
       "59      1\n",
       "44      1\n",
       "51      1\n",
       "Name: count, dtype: int64"
      ]
     },
     "execution_count": 23,
     "metadata": {},
     "output_type": "execute_result"
    }
   ],
   "source": [
    "data = [df]\n",
    "for dataset in data:\n",
    "    dataset.loc[dataset['Age'] <= 21.0, 'Age'] = 0\n",
    "    dataset.loc[(dataset['Age'] > 21.0) & (dataset['Age'] <= 25.0), 'Age'] = 1\n",
    "    dataset.loc[(dataset['Age'] > 25.0) & (dataset['Age'] <= 31.0), 'Age'] = 2\n",
    "    dataset.loc[(dataset['Age'] > 31.0) & (dataset['Age'] <= 41.0), 'Age'] = 3\n",
    "    dataset.loc[dataset['Age'] > 76.0, 'Age'] = 4\n",
    "\n",
    "    dataset['Age'] = dataset['Age'].astype(int)\n",
    "\n",
    "df['Age'].value_counts()\n"
   ]
  },
  {
   "cell_type": "markdown",
   "id": "92828f2b",
   "metadata": {
    "papermill": {
     "duration": 0.024847,
     "end_time": "2023-12-01T14:25:08.528225",
     "exception": false,
     "start_time": "2023-12-01T14:25:08.503378",
     "status": "completed"
    },
    "tags": []
   },
   "source": [
    "\n",
    "**📈 Descriptive Statistics**\n",
    "\n"
   ]
  },
  {
   "cell_type": "code",
   "execution_count": 24,
   "id": "cb048a10",
   "metadata": {
    "execution": {
     "iopub.execute_input": "2023-12-01T14:25:08.579293Z",
     "iopub.status.busy": "2023-12-01T14:25:08.578874Z",
     "iopub.status.idle": "2023-12-01T14:25:08.619319Z",
     "shell.execute_reply": "2023-12-01T14:25:08.618107Z"
    },
    "papermill": {
     "duration": 0.069024,
     "end_time": "2023-12-01T14:25:08.622084",
     "exception": false,
     "start_time": "2023-12-01T14:25:08.553060",
     "status": "completed"
    },
    "tags": []
   },
   "outputs": [
    {
     "data": {
      "text/html": [
       "<div>\n",
       "<style scoped>\n",
       "    .dataframe tbody tr th:only-of-type {\n",
       "        vertical-align: middle;\n",
       "    }\n",
       "\n",
       "    .dataframe tbody tr th {\n",
       "        vertical-align: top;\n",
       "    }\n",
       "\n",
       "    .dataframe thead th {\n",
       "        text-align: right;\n",
       "    }\n",
       "</style>\n",
       "<table border=\"1\" class=\"dataframe\">\n",
       "  <thead>\n",
       "    <tr style=\"text-align: right;\">\n",
       "      <th></th>\n",
       "      <th>PassengerId</th>\n",
       "      <th>Survived</th>\n",
       "      <th>Pclass</th>\n",
       "      <th>Sex</th>\n",
       "      <th>Age</th>\n",
       "      <th>SibSp</th>\n",
       "      <th>Parch</th>\n",
       "      <th>Fare</th>\n",
       "      <th>Embarked</th>\n",
       "    </tr>\n",
       "  </thead>\n",
       "  <tbody>\n",
       "    <tr>\n",
       "      <th>count</th>\n",
       "      <td>418.000000</td>\n",
       "      <td>418.000000</td>\n",
       "      <td>418.000000</td>\n",
       "      <td>418.000000</td>\n",
       "      <td>418.000000</td>\n",
       "      <td>418.000000</td>\n",
       "      <td>418.000000</td>\n",
       "      <td>418.00000</td>\n",
       "      <td>418.000000</td>\n",
       "    </tr>\n",
       "    <tr>\n",
       "      <th>mean</th>\n",
       "      <td>1100.500000</td>\n",
       "      <td>0.363636</td>\n",
       "      <td>2.265550</td>\n",
       "      <td>0.363636</td>\n",
       "      <td>10.452153</td>\n",
       "      <td>0.447368</td>\n",
       "      <td>0.392344</td>\n",
       "      <td>2.00000</td>\n",
       "      <td>1.401914</td>\n",
       "    </tr>\n",
       "    <tr>\n",
       "      <th>std</th>\n",
       "      <td>120.810458</td>\n",
       "      <td>0.481622</td>\n",
       "      <td>0.841838</td>\n",
       "      <td>0.481622</td>\n",
       "      <td>19.425659</td>\n",
       "      <td>0.896760</td>\n",
       "      <td>0.981429</td>\n",
       "      <td>1.42098</td>\n",
       "      <td>0.854496</td>\n",
       "    </tr>\n",
       "    <tr>\n",
       "      <th>min</th>\n",
       "      <td>892.000000</td>\n",
       "      <td>0.000000</td>\n",
       "      <td>1.000000</td>\n",
       "      <td>0.000000</td>\n",
       "      <td>0.000000</td>\n",
       "      <td>0.000000</td>\n",
       "      <td>0.000000</td>\n",
       "      <td>0.00000</td>\n",
       "      <td>0.000000</td>\n",
       "    </tr>\n",
       "    <tr>\n",
       "      <th>25%</th>\n",
       "      <td>996.250000</td>\n",
       "      <td>0.000000</td>\n",
       "      <td>1.000000</td>\n",
       "      <td>0.000000</td>\n",
       "      <td>1.000000</td>\n",
       "      <td>0.000000</td>\n",
       "      <td>0.000000</td>\n",
       "      <td>1.00000</td>\n",
       "      <td>1.000000</td>\n",
       "    </tr>\n",
       "    <tr>\n",
       "      <th>50%</th>\n",
       "      <td>1100.500000</td>\n",
       "      <td>0.000000</td>\n",
       "      <td>3.000000</td>\n",
       "      <td>0.000000</td>\n",
       "      <td>2.000000</td>\n",
       "      <td>0.000000</td>\n",
       "      <td>0.000000</td>\n",
       "      <td>2.00000</td>\n",
       "      <td>2.000000</td>\n",
       "    </tr>\n",
       "    <tr>\n",
       "      <th>75%</th>\n",
       "      <td>1204.750000</td>\n",
       "      <td>1.000000</td>\n",
       "      <td>3.000000</td>\n",
       "      <td>1.000000</td>\n",
       "      <td>3.000000</td>\n",
       "      <td>1.000000</td>\n",
       "      <td>0.000000</td>\n",
       "      <td>3.00000</td>\n",
       "      <td>2.000000</td>\n",
       "    </tr>\n",
       "    <tr>\n",
       "      <th>max</th>\n",
       "      <td>1309.000000</td>\n",
       "      <td>1.000000</td>\n",
       "      <td>3.000000</td>\n",
       "      <td>1.000000</td>\n",
       "      <td>76.000000</td>\n",
       "      <td>8.000000</td>\n",
       "      <td>9.000000</td>\n",
       "      <td>4.00000</td>\n",
       "      <td>2.000000</td>\n",
       "    </tr>\n",
       "  </tbody>\n",
       "</table>\n",
       "</div>"
      ],
      "text/plain": [
       "       PassengerId    Survived      Pclass         Sex         Age  \\\n",
       "count   418.000000  418.000000  418.000000  418.000000  418.000000   \n",
       "mean   1100.500000    0.363636    2.265550    0.363636   10.452153   \n",
       "std     120.810458    0.481622    0.841838    0.481622   19.425659   \n",
       "min     892.000000    0.000000    1.000000    0.000000    0.000000   \n",
       "25%     996.250000    0.000000    1.000000    0.000000    1.000000   \n",
       "50%    1100.500000    0.000000    3.000000    0.000000    2.000000   \n",
       "75%    1204.750000    1.000000    3.000000    1.000000    3.000000   \n",
       "max    1309.000000    1.000000    3.000000    1.000000   76.000000   \n",
       "\n",
       "            SibSp       Parch       Fare    Embarked  \n",
       "count  418.000000  418.000000  418.00000  418.000000  \n",
       "mean     0.447368    0.392344    2.00000    1.401914  \n",
       "std      0.896760    0.981429    1.42098    0.854496  \n",
       "min      0.000000    0.000000    0.00000    0.000000  \n",
       "25%      0.000000    0.000000    1.00000    1.000000  \n",
       "50%      0.000000    0.000000    2.00000    2.000000  \n",
       "75%      1.000000    0.000000    3.00000    2.000000  \n",
       "max      8.000000    9.000000    4.00000    2.000000  "
      ]
     },
     "execution_count": 24,
     "metadata": {},
     "output_type": "execute_result"
    }
   ],
   "source": [
    "# 1.getting some statistic measure about the data\n",
    "df.describe()"
   ]
  },
  {
   "cell_type": "markdown",
   "id": "fbb398d0",
   "metadata": {
    "papermill": {
     "duration": 0.024895,
     "end_time": "2023-12-01T14:25:08.672085",
     "exception": false,
     "start_time": "2023-12-01T14:25:08.647190",
     "status": "completed"
    },
    "tags": []
   },
   "source": [
    "<div style=\"text-align: center;\">\n",
    "  <h2>📊 Exploratory Data Analysis (EDA)</h2>\n",
    "</div>\n"
   ]
  },
  {
   "cell_type": "code",
   "execution_count": 25,
   "id": "7735671f",
   "metadata": {
    "execution": {
     "iopub.execute_input": "2023-12-01T14:25:08.724932Z",
     "iopub.status.busy": "2023-12-01T14:25:08.724470Z",
     "iopub.status.idle": "2023-12-01T14:25:08.734366Z",
     "shell.execute_reply": "2023-12-01T14:25:08.733157Z"
    },
    "papermill": {
     "duration": 0.039188,
     "end_time": "2023-12-01T14:25:08.736963",
     "exception": false,
     "start_time": "2023-12-01T14:25:08.697775",
     "status": "completed"
    },
    "tags": []
   },
   "outputs": [
    {
     "data": {
      "text/plain": [
       "Survived\n",
       "0    266\n",
       "1    152\n",
       "Name: count, dtype: int64"
      ]
     },
     "execution_count": 25,
     "metadata": {},
     "output_type": "execute_result"
    }
   ],
   "source": [
    "df['Survived'].value_counts()"
   ]
  },
  {
   "cell_type": "code",
   "execution_count": 26,
   "id": "fe433609",
   "metadata": {
    "execution": {
     "iopub.execute_input": "2023-12-01T14:25:08.791093Z",
     "iopub.status.busy": "2023-12-01T14:25:08.790656Z",
     "iopub.status.idle": "2023-12-01T14:25:08.801510Z",
     "shell.execute_reply": "2023-12-01T14:25:08.800336Z"
    },
    "papermill": {
     "duration": 0.040886,
     "end_time": "2023-12-01T14:25:08.803998",
     "exception": false,
     "start_time": "2023-12-01T14:25:08.763112",
     "status": "completed"
    },
    "tags": []
   },
   "outputs": [
    {
     "name": "stdout",
     "output_type": "stream",
     "text": [
      "Percentage of passengers in class 3 who survived: 33.03%\n",
      "Percentage of passengers in class 2 who survived: 32.26%\n",
      "Percentage of passengers in class 1 who survived: 46.73%\n"
     ]
    }
   ],
   "source": [
    "# Get the unique values in the 'Pclass' column (1, 2, and 3)\n",
    "pclass_values = df['Pclass'].unique()\n",
    "\n",
    "# Loop through each unique 'Pclass' value and calculate the percentage of passengers who survived\n",
    "for pclass_value in pclass_values:\n",
    "    subset_df = df[df['Pclass'] == pclass_value]\n",
    "    percentage_survived = (subset_df['Survived'].sum() / len(subset_df)) * 100\n",
    "    print(f\"Percentage of passengers in class {pclass_value} who survived: {percentage_survived:.2f}%\")\n"
   ]
  },
  {
   "cell_type": "code",
   "execution_count": 27,
   "id": "bd29a906",
   "metadata": {
    "execution": {
     "iopub.execute_input": "2023-12-01T14:25:08.857498Z",
     "iopub.status.busy": "2023-12-01T14:25:08.857114Z",
     "iopub.status.idle": "2023-12-01T14:25:08.869766Z",
     "shell.execute_reply": "2023-12-01T14:25:08.868170Z"
    },
    "papermill": {
     "duration": 0.042554,
     "end_time": "2023-12-01T14:25:08.872139",
     "exception": false,
     "start_time": "2023-12-01T14:25:08.829585",
     "status": "completed"
    },
    "tags": []
   },
   "outputs": [
    {
     "name": "stdout",
     "output_type": "stream",
     "text": [
      "Percentage of passengers who survived in 0: 0.00%\n",
      "Percentage of passengers who survived in 1: 100.00%\n"
     ]
    }
   ],
   "source": [
    "# Group the DataFrame by 'sex' and calculate the mean survival rate\n",
    "survival_mean_by_sex = df.groupby(['Sex'])['Survived'].mean() * 100\n",
    "\n",
    "for sex, percentage in survival_mean_by_sex.items():\n",
    "    print(f\"Percentage of passengers who survived in {sex}: {percentage:.2f}%\")\n"
   ]
  },
  {
   "cell_type": "code",
   "execution_count": 28,
   "id": "82a1c8f0",
   "metadata": {
    "execution": {
     "iopub.execute_input": "2023-12-01T14:25:08.924913Z",
     "iopub.status.busy": "2023-12-01T14:25:08.924442Z",
     "iopub.status.idle": "2023-12-01T14:25:08.933668Z",
     "shell.execute_reply": "2023-12-01T14:25:08.932347Z"
    },
    "papermill": {
     "duration": 0.038761,
     "end_time": "2023-12-01T14:25:08.936261",
     "exception": false,
     "start_time": "2023-12-01T14:25:08.897500",
     "status": "completed"
    },
    "tags": []
   },
   "outputs": [
    {
     "name": "stdout",
     "output_type": "stream",
     "text": [
      "Percentage of passengers who survived in 0: 39.22%\n",
      "Percentage of passengers who survived in 1: 52.17%\n",
      "Percentage of passengers who survived in 2: 32.59%\n"
     ]
    }
   ],
   "source": [
    "# Group the DataFrame by 'Embarked' and calculate the mean survival rate\n",
    "survival_mean_by_Embarked = df.groupby(['Embarked'])['Survived'].mean() * 100\n",
    "\n",
    "for embarked, percentage in survival_mean_by_Embarked.items():\n",
    "    print(f\"Percentage of passengers who survived in {embarked}: {percentage:.2f}%\")\n"
   ]
  },
  {
   "cell_type": "code",
   "execution_count": 29,
   "id": "7bf582f5",
   "metadata": {
    "execution": {
     "iopub.execute_input": "2023-12-01T14:25:08.989722Z",
     "iopub.status.busy": "2023-12-01T14:25:08.989260Z",
     "iopub.status.idle": "2023-12-01T14:25:09.003968Z",
     "shell.execute_reply": "2023-12-01T14:25:09.002772Z"
    },
    "papermill": {
     "duration": 0.045595,
     "end_time": "2023-12-01T14:25:09.007673",
     "exception": false,
     "start_time": "2023-12-01T14:25:08.962078",
     "status": "completed"
    },
    "tags": []
   },
   "outputs": [
    {
     "name": "stdout",
     "output_type": "stream",
     "text": [
      "Percentage of passengers who survived in Abbott, Master. Eugene Joseph: 0.00%\n",
      "Percentage of passengers who survived in Abelseth, Miss. Karen Marie: 100.00%\n",
      "Percentage of passengers who survived in Abelseth, Mr. Olaus Jorgensen: 0.00%\n",
      "Percentage of passengers who survived in Abrahamsson, Mr. Abraham August Johannes: 0.00%\n",
      "Percentage of passengers who survived in Abrahim, Mrs. Joseph (Sophie Halaut Easu): 100.00%\n",
      "Percentage of passengers who survived in Aks, Master. Philip Frank: 0.00%\n",
      "Percentage of passengers who survived in Aldworth, Mr. Charles Augustus: 0.00%\n",
      "Percentage of passengers who survived in Allison, Mr. Hudson Joshua Creighton: 0.00%\n",
      "Percentage of passengers who survived in Andersen, Mr. Albert Karvin: 0.00%\n",
      "Percentage of passengers who survived in Andersson, Miss. Ida Augusta Margareta: 100.00%\n",
      "Percentage of passengers who survived in Andersson, Mr. Johan Samuel: 0.00%\n",
      "Percentage of passengers who survived in Andrew, Mr. Frank Thomas: 0.00%\n",
      "Percentage of passengers who survived in Angheloff, Mr. Minko: 0.00%\n",
      "Percentage of passengers who survived in Angle, Mr. William A: 0.00%\n",
      "Percentage of passengers who survived in Aronsson, Mr. Ernst Axel Algot: 0.00%\n",
      "Percentage of passengers who survived in Ashby, Mr. John: 0.00%\n",
      "Percentage of passengers who survived in Asplund, Master. Carl Edgar: 0.00%\n",
      "Percentage of passengers who survived in Asplund, Master. Filip Oscar: 0.00%\n",
      "Percentage of passengers who survived in Asplund, Mr. Carl Oscar Vilhelm Gustafsson: 0.00%\n",
      "Percentage of passengers who survived in Asplund, Mr. Johan Charles: 0.00%\n",
      "Percentage of passengers who survived in Assaf Khalil, Mrs. Mariana (Miriam\")\": 100.00%\n",
      "Percentage of passengers who survived in Assaf, Mr. Gerios: 0.00%\n",
      "Percentage of passengers who survived in Assam, Mr. Ali: 0.00%\n",
      "Percentage of passengers who survived in Astor, Col. John Jacob: 0.00%\n",
      "Percentage of passengers who survived in Baccos, Mr. Raffull: 0.00%\n",
      "Percentage of passengers who survived in Badman, Miss. Emily Louisa: 100.00%\n",
      "Percentage of passengers who survived in Baimbrigge, Mr. Charles Robert: 0.00%\n",
      "Percentage of passengers who survived in Barry, Miss. Julia: 100.00%\n",
      "Percentage of passengers who survived in Beattie, Mr. Thomson: 0.00%\n",
      "Percentage of passengers who survived in Beauchamp, Mr. Henry James: 0.00%\n",
      "Percentage of passengers who survived in Becker, Miss. Ruth Elizabeth: 100.00%\n",
      "Percentage of passengers who survived in Becker, Mrs. Allen Oliver (Nellie E Baumgardner): 100.00%\n",
      "Percentage of passengers who survived in Bentham, Miss. Lilian W: 100.00%\n",
      "Percentage of passengers who survived in Betros, Master. Seman: 0.00%\n",
      "Percentage of passengers who survived in Bird, Miss. Ellen: 100.00%\n",
      "Percentage of passengers who survived in Birnbaum, Mr. Jakob: 0.00%\n",
      "Percentage of passengers who survived in Bjorklund, Mr. Ernst Herbert: 0.00%\n",
      "Percentage of passengers who survived in Bonnell, Miss. Caroline: 100.00%\n",
      "Percentage of passengers who survived in Borebank, Mr. John James: 0.00%\n",
      "Percentage of passengers who survived in Botsford, Mr. William Hull: 0.00%\n",
      "Percentage of passengers who survived in Boulos, Master. Akar: 0.00%\n",
      "Percentage of passengers who survived in Bowen, Miss. Grace Scott: 100.00%\n",
      "Percentage of passengers who survived in Bowenur, Mr. Solomon: 0.00%\n",
      "Percentage of passengers who survived in Bradley, Miss. Bridget Delia: 100.00%\n",
      "Percentage of passengers who survived in Brady, Mr. John Bertram: 0.00%\n",
      "Percentage of passengers who survived in Braf, Miss. Elin Ester Maria: 100.00%\n",
      "Percentage of passengers who survived in Brandeis, Mr. Emil: 0.00%\n",
      "Percentage of passengers who survived in Brobeck, Mr. Karl Rudolf: 0.00%\n",
      "Percentage of passengers who survived in Brown, Miss. Edith Eileen: 100.00%\n",
      "Percentage of passengers who survived in Brown, Mrs. John Murray (Caroline Lane Lamson): 100.00%\n",
      "Percentage of passengers who survived in Bryhl, Miss. Dagmar Jenny Ingeborg : 100.00%\n",
      "Percentage of passengers who survived in Buckley, Miss. Katherine: 100.00%\n",
      "Percentage of passengers who survived in Buckley, Mr. Daniel: 0.00%\n",
      "Percentage of passengers who survived in Bucknell, Mrs. William Robert (Emma Eliza Ward): 100.00%\n",
      "Percentage of passengers who survived in Burns, Miss. Mary Delia: 100.00%\n",
      "Percentage of passengers who survived in Cacic, Miss. Manda: 100.00%\n",
      "Percentage of passengers who survived in Cacic, Mr. Jego Grga: 0.00%\n",
      "Percentage of passengers who survived in Caldwell, Mr. Albert Francis: 0.00%\n",
      "Percentage of passengers who survived in Canavan, Mr. Patrick: 0.00%\n",
      "Percentage of passengers who survived in Candee, Mrs. Edward (Helen Churchill Hungerford): 100.00%\n",
      "Percentage of passengers who survived in Caram, Mr. Joseph: 0.00%\n",
      "Percentage of passengers who survived in Cardeza, Mrs. James Warburton Martinez (Charlotte Wardle Drake): 100.00%\n",
      "Percentage of passengers who survived in Carlsson, Mr. Carl Robert: 0.00%\n",
      "Percentage of passengers who survived in Carr, Miss. Jeannie: 100.00%\n",
      "Percentage of passengers who survived in Carrau, Mr. Jose Pedro: 0.00%\n",
      "Percentage of passengers who survived in Carver, Mr. Alfred John: 0.00%\n",
      "Percentage of passengers who survived in Case, Mr. Howard Brown: 0.00%\n",
      "Percentage of passengers who survived in Cassebeer, Mrs. Henry Arthur Jr (Eleanor Genevieve Fosdick): 100.00%\n",
      "Percentage of passengers who survived in Cavendish, Mrs. Tyrell William (Julia Florence Siegel): 100.00%\n",
      "Percentage of passengers who survived in Chaffee, Mrs. Herbert Fuller (Carrie Constance Toogood): 100.00%\n",
      "Percentage of passengers who survived in Chapman, Mrs. John Henry (Sara Elizabeth Lawry): 100.00%\n",
      "Percentage of passengers who survived in Chaudanson, Miss. Victorine: 100.00%\n",
      "Percentage of passengers who survived in Chevre, Mr. Paul Romaine: 0.00%\n",
      "Percentage of passengers who survived in Chisholm, Mr. Roderick Robert Crispin: 0.00%\n",
      "Percentage of passengers who survived in Christy, Mrs. (Alice Frances): 100.00%\n",
      "Percentage of passengers who survived in Chronopoulos, Mr. Demetrios: 0.00%\n",
      "Percentage of passengers who survived in Clark, Mr. Walter Miller: 0.00%\n",
      "Percentage of passengers who survived in Clark, Mrs. Walter Miller (Virginia McDowell): 100.00%\n",
      "Percentage of passengers who survived in Clarke, Mr. Charles Valentine: 0.00%\n",
      "Percentage of passengers who survived in Colbert, Mr. Patrick: 0.00%\n",
      "Percentage of passengers who survived in Collett, Mr. Sidney C Stuart: 0.00%\n",
      "Percentage of passengers who survived in Compton, Mr. Alexander Taylor Jr: 0.00%\n",
      "Percentage of passengers who survived in Compton, Mrs. Alexander Taylor (Mary Eliza Ingersoll): 100.00%\n",
      "Percentage of passengers who survived in Conlon, Mr. Thomas Henry: 0.00%\n",
      "Percentage of passengers who survived in Connolly, Miss. Kate: 100.00%\n",
      "Percentage of passengers who survived in Cook, Mrs. (Selena Rogers): 100.00%\n",
      "Percentage of passengers who survived in Cor, Mr. Bartol: 0.00%\n",
      "Percentage of passengers who survived in Cor, Mr. Ivan: 0.00%\n",
      "Percentage of passengers who survived in Corbett, Mrs. Walter H (Irene Colvin): 100.00%\n",
      "Percentage of passengers who survived in Corey, Mrs. Percy C (Mary Phyllis Elizabeth Miller): 100.00%\n",
      "Percentage of passengers who survived in Cornell, Mrs. Robert Clifford (Malvina Helen Lamson): 100.00%\n",
      "Percentage of passengers who survived in Cotterill, Mr. Henry Harry\"\": 0.00%\n",
      "Percentage of passengers who survived in Coutts, Mrs. William (Winnie Minnie\" Treanor)\": 100.00%\n",
      "Percentage of passengers who survived in Crafton, Mr. John Bertram: 0.00%\n",
      "Percentage of passengers who survived in Cribb, Miss. Laura Alice: 100.00%\n",
      "Percentage of passengers who survived in Crosby, Mrs. Edward Gifford (Catherine Elizabeth Halstead): 100.00%\n",
      "Percentage of passengers who survived in Cumings, Mr. John Bradley: 0.00%\n",
      "Percentage of passengers who survived in Daher, Mr. Shedid: 0.00%\n",
      "Percentage of passengers who survived in Daly, Miss. Margaret Marcella Maggie\"\": 100.00%\n",
      "Percentage of passengers who survived in Danbom, Master. Gilbert Sigvard Emanuel: 0.00%\n",
      "Percentage of passengers who survived in Daniels, Miss. Sarah: 100.00%\n",
      "Percentage of passengers who survived in Davidson, Mrs. Thornton (Orian Hays): 100.00%\n",
      "Percentage of passengers who survived in Davies, Mr. Evan: 0.00%\n",
      "Percentage of passengers who survived in Davies, Mr. John Samuel: 0.00%\n",
      "Percentage of passengers who survived in Davies, Mr. Joseph: 0.00%\n",
      "Percentage of passengers who survived in Davies, Mrs. John Morgan (Elizabeth Agnes Mary White) : 100.00%\n",
      "Percentage of passengers who survived in Davison, Mr. Thomas Henry: 0.00%\n",
      "Percentage of passengers who survived in Deacon, Mr. Percy William: 0.00%\n",
      "Percentage of passengers who survived in Dean, Miss. Elizabeth Gladys Millvina\"\": 100.00%\n",
      "Percentage of passengers who survived in Dean, Mrs. Bertram (Eva Georgetta Light): 100.00%\n",
      "Percentage of passengers who survived in Delalic, Mr. Redjo: 0.00%\n",
      "Percentage of passengers who survived in Demetri, Mr. Marinko: 0.00%\n",
      "Percentage of passengers who survived in Denbury, Mr. Herbert: 0.00%\n",
      "Percentage of passengers who survived in Dennis, Mr. William: 0.00%\n",
      "Percentage of passengers who survived in Dibden, Mr. William: 0.00%\n",
      "Percentage of passengers who survived in Dika, Mr. Mirko: 0.00%\n",
      "Percentage of passengers who survived in Dintcheff, Mr. Valtcho: 0.00%\n",
      "Percentage of passengers who survived in Dodge, Dr. Washington: 0.00%\n",
      "Percentage of passengers who survived in Dodge, Mrs. Washington (Ruth Vidaver): 100.00%\n",
      "Percentage of passengers who survived in Douglas, Mrs. Frederick Charles (Mary Helene Baxter): 100.00%\n",
      "Percentage of passengers who survived in Douglas, Mrs. Walter Donald (Mahala Dutton): 100.00%\n",
      "Percentage of passengers who survived in Doyle, Miss. Elizabeth: 100.00%\n",
      "Percentage of passengers who survived in Drapkin, Miss. Jennie: 100.00%\n",
      "Percentage of passengers who survived in Drew, Master. Marshall Brines: 0.00%\n",
      "Percentage of passengers who survived in Drew, Mr. James Vivian: 0.00%\n",
      "Percentage of passengers who survived in Dulles, Mr. William Crothers: 0.00%\n",
      "Percentage of passengers who survived in Duquemin, Mr. Joseph: 0.00%\n",
      "Percentage of passengers who survived in Duran y More, Miss. Florentina: 100.00%\n",
      "Percentage of passengers who survived in Dyker, Mr. Adolf Fredrik: 0.00%\n",
      "Percentage of passengers who survived in Dyker, Mrs. Adolf Fredrik (Anna Elisabeth Judith Andersson): 100.00%\n",
      "Percentage of passengers who survived in Earnshaw, Mrs. Boulton (Olive Potter): 100.00%\n",
      "Percentage of passengers who survived in Elias, Mr. Joseph: 0.00%\n",
      "Percentage of passengers who survived in Enander, Mr. Ingvar: 0.00%\n",
      "Percentage of passengers who survived in Evans, Miss. Edith Corse: 100.00%\n",
      "Percentage of passengers who survived in Everett, Mr. Thomas James: 0.00%\n",
      "Percentage of passengers who survived in Faunthorpe, Mr. Harry: 0.00%\n",
      "Percentage of passengers who survived in Fillbrook, Mr. Joseph Charles: 0.00%\n",
      "Percentage of passengers who survived in Finoli, Mr. Luigi: 0.00%\n",
      "Percentage of passengers who survived in Flegenheim, Mrs. Alfred (Antoinette): 100.00%\n",
      "Percentage of passengers who survived in Fleming, Miss. Honora: 100.00%\n",
      "Percentage of passengers who survived in Foley, Mr. Joseph: 0.00%\n",
      "Percentage of passengers who survived in Foley, Mr. William: 0.00%\n",
      "Percentage of passengers who survived in Ford, Mr. Arthur: 0.00%\n",
      "Percentage of passengers who survived in Ford, Mr. Edward Watson: 0.00%\n",
      "Percentage of passengers who survived in Fortune, Miss. Ethel Flora: 100.00%\n",
      "Percentage of passengers who survived in Fortune, Mrs. Mark (Mary McDougald): 100.00%\n",
      "Percentage of passengers who survived in Fox, Mr. Patrick: 0.00%\n",
      "Percentage of passengers who survived in Franklin, Mr. Charles (Charles Fardon): 0.00%\n",
      "Percentage of passengers who survived in Franklin, Mr. Thomas Parham: 0.00%\n",
      "Percentage of passengers who survived in Frauenthal, Mr. Isaac Gerald: 0.00%\n",
      "Percentage of passengers who survived in Frolicher-Stehli, Mrs. Maxmillian (Margaretha Emerentia Stehli): 100.00%\n",
      "Percentage of passengers who survived in Gale, Mr. Harry: 0.00%\n",
      "Percentage of passengers who survived in Geiger, Miss. Amalie: 100.00%\n",
      "Percentage of passengers who survived in Gibson, Miss. Dorothy Winifred: 100.00%\n",
      "Percentage of passengers who survived in Gibson, Mrs. Leonard (Pauline C Boeson): 100.00%\n",
      "Percentage of passengers who survived in Gilbert, Mr. William: 0.00%\n",
      "Percentage of passengers who survived in Giles, Mr. Edgar: 0.00%\n",
      "Percentage of passengers who survived in Giles, Mr. Ralph: 0.00%\n",
      "Percentage of passengers who survived in Goldsmith, Mr. Nathan: 0.00%\n",
      "Percentage of passengers who survived in Goodwin, Miss. Jessie Allis: 100.00%\n",
      "Percentage of passengers who survived in Goodwin, Mr. Charles Frederick: 0.00%\n",
      "Percentage of passengers who survived in Gracie, Col. Archibald IV: 0.00%\n",
      "Percentage of passengers who survived in Greenfield, Mrs. Leo David (Blanche Strouse): 100.00%\n",
      "Percentage of passengers who survived in Guest, Mr. Robert: 0.00%\n",
      "Percentage of passengers who survived in Hagardon, Miss. Kate: 100.00%\n",
      "Percentage of passengers who survived in Hansen, Mrs. Claus Peter (Jennie L Howard): 100.00%\n",
      "Percentage of passengers who survived in Harbeck, Mr. William H: 0.00%\n",
      "Percentage of passengers who survived in Harder, Mrs. George Achilles (Dorothy Annan): 100.00%\n",
      "Percentage of passengers who survived in Hays, Mr. Charles Melville: 0.00%\n",
      "Percentage of passengers who survived in Head, Mr. Christopher: 0.00%\n",
      "Percentage of passengers who survived in Hee, Mr. Ling: 0.00%\n",
      "Percentage of passengers who survived in Hellstrom, Miss. Hilda Maria: 100.00%\n",
      "Percentage of passengers who survived in Henriksson, Miss. Jenny Lovisa: 100.00%\n",
      "Percentage of passengers who survived in Herman, Miss. Kate: 100.00%\n",
      "Percentage of passengers who survived in Herman, Mr. Samuel: 0.00%\n",
      "Percentage of passengers who survived in Hilliard, Mr. Herbert Henry: 0.00%\n",
      "Percentage of passengers who survived in Hiltunen, Miss. Marta: 100.00%\n",
      "Percentage of passengers who survived in Hipkins, Mr. William Edward: 0.00%\n",
      "Percentage of passengers who survived in Hirvonen, Mrs. Alexander (Helga E Lindqvist): 100.00%\n",
      "Percentage of passengers who survived in Hocking, Miss. Ellen Nellie\"\": 100.00%\n",
      "Percentage of passengers who survived in Hocking, Mr. Samuel James Metcalfe: 0.00%\n",
      "Percentage of passengers who survived in Hold, Mrs. Stephen (Annie Margaret Hill): 100.00%\n",
      "Percentage of passengers who survived in Holthen, Mr. Johan Martin: 0.00%\n",
      "Percentage of passengers who survived in Howard, Miss. May Elizabeth: 100.00%\n",
      "Percentage of passengers who survived in Howard, Mr. Benjamin: 0.00%\n",
      "Percentage of passengers who survived in Howard, Mrs. Benjamin (Ellen Truelove Arman): 100.00%\n",
      "Percentage of passengers who survived in Hyman, Mr. Abraham: 0.00%\n",
      "Percentage of passengers who survived in Ilieff, Mr. Ylio: 0.00%\n",
      "Percentage of passengers who survived in Ilmakangas, Miss. Ida Livija: 100.00%\n",
      "Percentage of passengers who survived in Ismay, Mr. Joseph Bruce: 0.00%\n",
      "Percentage of passengers who survived in Jefferys, Mr. Clifford Thomas: 0.00%\n",
      "Percentage of passengers who survived in Jefferys, Mr. Ernest Wilfred: 0.00%\n",
      "Percentage of passengers who survived in Johansson Palmquist, Mr. Oskar Leander: 0.00%\n",
      "Percentage of passengers who survived in Johansson, Mr. Nils: 0.00%\n",
      "Percentage of passengers who survived in Johnston, Master. William Arthur Willie\"\": 0.00%\n",
      "Percentage of passengers who survived in Johnston, Mrs. Andrew G (Elizabeth Lily\" Watson)\": 100.00%\n",
      "Percentage of passengers who survived in Jones, Mr. Charles Cresson: 0.00%\n",
      "Percentage of passengers who survived in Jonsson, Mr. Nils Hilding: 0.00%\n",
      "Percentage of passengers who survived in Julian, Mr. Henry Forbes: 0.00%\n",
      "Percentage of passengers who survived in Karlsson, Mr. Einar Gervasius: 0.00%\n",
      "Percentage of passengers who survived in Karlsson, Mr. Julius Konrad Eugen: 0.00%\n",
      "Percentage of passengers who survived in Karnes, Mrs. J Frank (Claire Bennett): 100.00%\n",
      "Percentage of passengers who survived in Karun, Mr. Franz: 0.00%\n",
      "Percentage of passengers who survived in Katavelas, Mr. Vassilios (Catavelas Vassilios\")\": 0.00%\n",
      "Percentage of passengers who survived in Keane, Mr. Daniel: 0.00%\n",
      "Percentage of passengers who survived in Keeping, Mr. Edwin: 0.00%\n",
      "Percentage of passengers who survived in Kelly, Mr. James: 0.00%\n",
      "Percentage of passengers who survived in Kennedy, Mr. John: 0.00%\n",
      "Percentage of passengers who survived in Kenyon, Mr. Frederick R: 0.00%\n",
      "Percentage of passengers who survived in Khalil, Mr. Betros: 0.00%\n",
      "Percentage of passengers who survived in Khalil, Mrs. Betros (Zahie Maria\" Elias)\": 100.00%\n",
      "Percentage of passengers who survived in Kiernan, Mr. John: 0.00%\n",
      "Percentage of passengers who survived in Kimball, Mrs. Edwin Nelson Jr (Gertrude Parsons): 100.00%\n",
      "Percentage of passengers who survived in Kink, Miss. Maria: 100.00%\n",
      "Percentage of passengers who survived in Kink-Heilmann, Mr. Anton: 0.00%\n",
      "Percentage of passengers who survived in Kink-Heilmann, Mrs. Anton (Luise Heilmann): 100.00%\n",
      "Percentage of passengers who survived in Klasen, Miss. Gertrud Emilia: 100.00%\n",
      "Percentage of passengers who survived in Klasen, Mrs. (Hulda Kristina Eugenia Lofqvist): 100.00%\n",
      "Percentage of passengers who survived in Krekorian, Mr. Neshan: 0.00%\n",
      "Percentage of passengers who survived in Kreuchen, Miss. Emilie: 100.00%\n",
      "Percentage of passengers who survived in Lahtinen, Rev. William: 0.00%\n",
      "Percentage of passengers who survived in Lamb, Mr. John Joseph: 0.00%\n",
      "Percentage of passengers who survived in Lane, Mr. Patrick: 0.00%\n",
      "Percentage of passengers who survived in Laroche, Miss. Louise: 100.00%\n",
      "Percentage of passengers who survived in Larsson-Rondberg, Mr. Edvard A: 0.00%\n",
      "Percentage of passengers who survived in Lefebre, Mrs. Frank (Frances): 100.00%\n",
      "Percentage of passengers who survived in Lennon, Miss. Mary: 100.00%\n",
      "Percentage of passengers who survived in Lindeberg-Lind, Mr. Erik Gustaf (Mr Edward Lingrey\")\": 0.00%\n",
      "Percentage of passengers who survived in Lindell, Mrs. Edvard Bengtsson (Elin Gerda Persson): 100.00%\n",
      "Percentage of passengers who survived in Lindstrom, Mrs. Carl Johan (Sigrid Posse): 100.00%\n",
      "Percentage of passengers who survived in Linehan, Mr. Michael: 0.00%\n",
      "Percentage of passengers who survived in Lines, Mrs. Ernest H (Elizabeth Lindsey James): 100.00%\n",
      "Percentage of passengers who survived in Lingane, Mr. John: 0.00%\n",
      "Percentage of passengers who survived in Lithman, Mr. Simon: 0.00%\n",
      "Percentage of passengers who survived in Lockyer, Mr. Edward: 0.00%\n",
      "Percentage of passengers who survived in Loring, Mr. Joseph Holland: 0.00%\n",
      "Percentage of passengers who survived in Louch, Mr. Charles Alexander: 0.00%\n",
      "Percentage of passengers who survived in Lundin, Miss. Olga Elida: 100.00%\n",
      "Percentage of passengers who survived in Lundstrom, Mr. Thure Edvin: 0.00%\n",
      "Percentage of passengers who survived in Lyntakoff, Mr. Stanko: 0.00%\n",
      "Percentage of passengers who survived in MacKay, Mr. George William: 0.00%\n",
      "Percentage of passengers who survived in Maguire, Mr. John Edward: 0.00%\n",
      "Percentage of passengers who survived in Mahon, Miss. Bridget Delia: 100.00%\n",
      "Percentage of passengers who survived in Mahon, Mr. John: 0.00%\n",
      "Percentage of passengers who survived in Makinen, Mr. Kalle Edvard: 0.00%\n",
      "Percentage of passengers who survived in Malachard, Mr. Noel: 0.00%\n",
      "Percentage of passengers who survived in Mallet, Mrs. Albert (Antoinette Magnin): 100.00%\n",
      "Percentage of passengers who survived in Mangiavacchi, Mr. Serafino Emilio: 0.00%\n",
      "Percentage of passengers who survived in Mardirosian, Mr. Sarkis: 0.00%\n",
      "Percentage of passengers who survived in Marvin, Mrs. Daniel Warner (Mary Graham Carmichael Farquarson): 100.00%\n",
      "Percentage of passengers who survived in Matinoff, Mr. Nicola: 0.00%\n",
      "Percentage of passengers who survived in Maybery, Mr. Frank Hubert: 0.00%\n",
      "Percentage of passengers who survived in McCaffry, Mr. Thomas Francis: 0.00%\n",
      "Percentage of passengers who survived in McCarthy, Miss. Catherine Katie\"\": 100.00%\n",
      "Percentage of passengers who survived in McCoy, Miss. Alicia: 100.00%\n",
      "Percentage of passengers who survived in McCrae, Mr. Arthur Gordon: 0.00%\n",
      "Percentage of passengers who survived in McCrie, Mr. James Matthew: 0.00%\n",
      "Percentage of passengers who survived in McGowan, Miss. Katherine: 100.00%\n",
      "Percentage of passengers who survived in McNamee, Mrs. Neal (Eileen O'Leary): 100.00%\n",
      "Percentage of passengers who survived in McNeill, Miss. Bridget: 100.00%\n",
      "Percentage of passengers who survived in Midtsjo, Mr. Karl Albert: 0.00%\n",
      "Percentage of passengers who survived in Miles, Mr. Frank: 0.00%\n",
      "Percentage of passengers who survived in Minahan, Mrs. William Edward (Lillian E Thorpe): 100.00%\n",
      "Percentage of passengers who survived in Minkoff, Mr. Lazar: 0.00%\n",
      "Percentage of passengers who survived in Mock, Mr. Philipp Edmund: 0.00%\n",
      "Percentage of passengers who survived in Moore, Mr. Clarence Bloomfield: 0.00%\n",
      "Percentage of passengers who survived in Moubarek, Mrs. George (Omine Amenia\" Alexander)\": 100.00%\n",
      "Percentage of passengers who survived in Mulvihill, Miss. Bertha E: 100.00%\n",
      "Percentage of passengers who survived in Murphy, Miss. Nora: 100.00%\n",
      "Percentage of passengers who survived in Myles, Mr. Thomas Francis: 0.00%\n",
      "Percentage of passengers who survived in Nakid, Mrs. Said (Waika Mary\" Mowad)\": 100.00%\n",
      "Percentage of passengers who survived in Nancarrow, Mr. William Henry: 0.00%\n",
      "Percentage of passengers who survived in Nasr, Mr. Mustafa: 0.00%\n",
      "Percentage of passengers who survived in Naughton, Miss. Hannah: 100.00%\n",
      "Percentage of passengers who survived in Nesson, Mr. Israel: 0.00%\n",
      "Percentage of passengers who survived in Nieminen, Miss. Manta Josefina: 100.00%\n",
      "Percentage of passengers who survived in Niklasson, Mr. Samuel: 0.00%\n",
      "Percentage of passengers who survived in Nilsson, Miss. Berta Olivia: 100.00%\n",
      "Percentage of passengers who survived in Nilsson, Mr. August Ferdinand: 0.00%\n",
      "Percentage of passengers who survived in Nourney, Mr. Alfred (Baron von Drachstedt\")\": 0.00%\n",
      "Percentage of passengers who survived in O'Connor, Mr. Patrick: 0.00%\n",
      "Percentage of passengers who survived in O'Donoghue, Ms. Bridget: 100.00%\n",
      "Percentage of passengers who survived in O'Keefe, Mr. Patrick: 0.00%\n",
      "Percentage of passengers who survived in Oliva y Ocana, Dona. Fermina: 100.00%\n",
      "Percentage of passengers who survived in Olsen, Master. Artur Karl: 0.00%\n",
      "Percentage of passengers who survived in Olsson, Mr. Oscar Wilhelm: 0.00%\n",
      "Percentage of passengers who survived in Omont, Mr. Alfred Fernand: 0.00%\n",
      "Percentage of passengers who survived in Oreskovic, Miss. Jelka: 100.00%\n",
      "Percentage of passengers who survived in Ostby, Miss. Helene Ragnhild: 100.00%\n",
      "Percentage of passengers who survived in Ovies y Rodriguez, Mr. Servando: 0.00%\n",
      "Percentage of passengers who survived in Oxenham, Mr. Percy Thomas: 0.00%\n",
      "Percentage of passengers who survived in Pallas y Castello, Mr. Emilio: 0.00%\n",
      "Percentage of passengers who survived in Palsson, Master. Paul Folke: 0.00%\n",
      "Percentage of passengers who survived in Parker, Mr. Clifford Richard: 0.00%\n",
      "Percentage of passengers who survived in Payne, Mr. Vivian Ponsonby: 0.00%\n",
      "Percentage of passengers who survived in Peacock, Master. Alfred Edward: 0.00%\n",
      "Percentage of passengers who survived in Peacock, Miss. Treasteall: 100.00%\n",
      "Percentage of passengers who survived in Peacock, Mrs. Benjamin (Edith Nile): 100.00%\n",
      "Percentage of passengers who survived in Pearce, Mr. Ernest: 0.00%\n",
      "Percentage of passengers who survived in Pedersen, Mr. Olaf: 0.00%\n",
      "Percentage of passengers who survived in Peltomaki, Mr. Nikolai Johannes: 0.00%\n",
      "Percentage of passengers who survived in Peruschitz, Rev. Joseph Maria: 0.00%\n",
      "Percentage of passengers who survived in Peter, Master. Michael J: 0.00%\n",
      "Percentage of passengers who survived in Petersen, Mr. Marius: 0.00%\n",
      "Percentage of passengers who survived in Phillips, Miss. Alice Frances Louisa: 100.00%\n",
      "Percentage of passengers who survived in Phillips, Mr. Escott Robert: 0.00%\n",
      "Percentage of passengers who survived in Pokrnic, Mr. Mate: 0.00%\n",
      "Percentage of passengers who survived in Pokrnic, Mr. Tome: 0.00%\n",
      "Percentage of passengers who survived in Portaluppi, Mr. Emilio Ilario Giuseppe: 0.00%\n",
      "Percentage of passengers who survived in Pulbaum, Mr. Franz: 0.00%\n",
      "Percentage of passengers who survived in Quick, Miss. Winifred Vera: 100.00%\n",
      "Percentage of passengers who survived in Rasmussen, Mrs. (Lena Jacobsen Solvang): 100.00%\n",
      "Percentage of passengers who survived in Reynolds, Mr. Harold J: 0.00%\n",
      "Percentage of passengers who survived in Rheims, Mr. George Alexander Lucien: 0.00%\n",
      "Percentage of passengers who survived in Rice, Master. Albert: 0.00%\n",
      "Percentage of passengers who survived in Riihivouri, Miss. Susanna Juhantytar Sanni\"\": 100.00%\n",
      "Percentage of passengers who survived in Riordan, Miss. Johanna Hannah\"\": 100.00%\n",
      "Percentage of passengers who survived in Risien, Mrs. Samuel (Emma): 100.00%\n",
      "Percentage of passengers who survived in Robins, Mr. Alexander A: 0.00%\n",
      "Percentage of passengers who survived in Rogers, Mr. Reginald Harry: 0.00%\n",
      "Percentage of passengers who survived in Rosblom, Miss. Salli Helena: 100.00%\n",
      "Percentage of passengers who survived in Rosenbaum, Miss. Edith Louise: 100.00%\n",
      "Percentage of passengers who survived in Rosenshine, Mr. George (Mr George Thorne\")\": 0.00%\n",
      "Percentage of passengers who survived in Roth, Miss. Sarah A: 100.00%\n",
      "Percentage of passengers who survived in Rothschild, Mr. Martin: 0.00%\n",
      "Percentage of passengers who survived in Rowe, Mr. Alfred G: 0.00%\n",
      "Percentage of passengers who survived in Ryan, Mr. Edward: 0.00%\n",
      "Percentage of passengers who survived in Ryerson, Master. John Borie: 0.00%\n",
      "Percentage of passengers who survived in Ryerson, Mr. Arthur Larned: 0.00%\n",
      "Percentage of passengers who survived in Ryerson, Mrs. Arthur Larned (Emily Maria Borie): 100.00%\n",
      "Percentage of passengers who survived in Saade, Mr. Jean Nassr: 0.00%\n",
      "Percentage of passengers who survived in Sadowitz, Mr. Harry: 0.00%\n",
      "Percentage of passengers who survived in Saether, Mr. Simon Sivertsen: 0.00%\n",
      "Percentage of passengers who survived in Sage, Master. William Henry: 0.00%\n",
      "Percentage of passengers who survived in Sage, Miss. Ada: 100.00%\n",
      "Percentage of passengers who survived in Sage, Mr. John George: 0.00%\n",
      "Percentage of passengers who survived in Sage, Mrs. John (Annie Bullen): 100.00%\n",
      "Percentage of passengers who survived in Salander, Mr. Karl Johan: 0.00%\n",
      "Percentage of passengers who survived in Salomon, Mr. Abraham L: 0.00%\n",
      "Percentage of passengers who survived in Samaan, Mr. Elias: 0.00%\n",
      "Percentage of passengers who survived in Samaan, Mr. Hanna: 0.00%\n",
      "Percentage of passengers who survived in Sandstrom, Miss. Beatrice Irene: 100.00%\n",
      "Percentage of passengers who survived in Sap, Mr. Julius: 0.00%\n",
      "Percentage of passengers who survived in Schabert, Mrs. Paul (Emma Mock): 100.00%\n",
      "Percentage of passengers who survived in Schmidt, Mr. August: 0.00%\n",
      "Percentage of passengers who survived in Shaughnessy, Mr. Patrick: 0.00%\n",
      "Percentage of passengers who survived in Shine, Miss. Ellen Natalia: 100.00%\n",
      "Percentage of passengers who survived in Sincock, Miss. Maude: 100.00%\n",
      "Percentage of passengers who survived in Smith, Mr. Lucien Philip: 0.00%\n",
      "Percentage of passengers who survived in Smith, Mrs. Lucien Philip (Mary Eloise Hughes): 100.00%\n",
      "Percentage of passengers who survived in Smyth, Miss. Julia: 100.00%\n",
      "Percentage of passengers who survived in Snyder, Mr. John Pillsbury: 0.00%\n",
      "Percentage of passengers who survived in Snyder, Mrs. John Pillsbury (Nelle Stevenson): 100.00%\n",
      "Percentage of passengers who survived in Spector, Mr. Woolf: 0.00%\n",
      "Percentage of passengers who survived in Spedden, Master. Robert Douglas: 0.00%\n",
      "Percentage of passengers who survived in Spedden, Mr. Frederic Oakley: 0.00%\n",
      "Percentage of passengers who survived in Spencer, Mr. William Augustus: 0.00%\n",
      "Percentage of passengers who survived in Spinner, Mr. Henry John: 0.00%\n",
      "Percentage of passengers who survived in Stanton, Mr. Samuel Ward: 0.00%\n",
      "Percentage of passengers who survived in Stengel, Mr. Charles Emil Henry: 0.00%\n",
      "Percentage of passengers who survived in Stengel, Mrs. Charles Emil Henry (Annie May Morris): 100.00%\n",
      "Percentage of passengers who survived in Stokes, Mr. Philip Joseph: 0.00%\n",
      "Percentage of passengers who survived in Storey, Mr. Thomas: 0.00%\n",
      "Percentage of passengers who survived in Straus, Mr. Isidor: 0.00%\n",
      "Percentage of passengers who survived in Straus, Mrs. Isidor (Rosalie Ida Blun): 100.00%\n",
      "Percentage of passengers who survived in Strilic, Mr. Ivan: 0.00%\n",
      "Percentage of passengers who survived in Svensson, Mr. Johan Cervin: 0.00%\n",
      "Percentage of passengers who survived in Swane, Mr. George: 0.00%\n",
      "Percentage of passengers who survived in Sweet, Mr. George Frederick: 0.00%\n",
      "Percentage of passengers who survived in Tenglin, Mr. Gunnar Isidor: 0.00%\n",
      "Percentage of passengers who survived in Thomas, Mr. Charles P: 0.00%\n",
      "Percentage of passengers who survived in Thomas, Mr. John: 0.00%\n",
      "Percentage of passengers who survived in Thomas, Mr. Tannous: 0.00%\n",
      "Percentage of passengers who survived in Thomas, Mrs. Alexander (Thamine Thelma\")\": 100.00%\n",
      "Percentage of passengers who survived in Thomson, Mr. Alexander Morrison: 0.00%\n",
      "Percentage of passengers who survived in Torfa, Mr. Assad: 0.00%\n",
      "Percentage of passengers who survived in Touma, Master. Georges Youssef: 0.00%\n",
      "Percentage of passengers who survived in Touma, Miss. Maria Youssef: 100.00%\n",
      "Percentage of passengers who survived in Tucker, Mr. Gilbert Milligan Jr: 0.00%\n",
      "Percentage of passengers who survived in Vander Planke, Mr. Julius: 0.00%\n",
      "Percentage of passengers who survived in Vartanian, Mr. David: 0.00%\n",
      "Percentage of passengers who survived in Veal, Mr. James: 0.00%\n",
      "Percentage of passengers who survived in Vendel, Mr. Olof Edvin: 0.00%\n",
      "Percentage of passengers who survived in Walcroft, Miss. Nellie: 100.00%\n",
      "Percentage of passengers who survived in Ware, Mr. Frederick: 0.00%\n",
      "Percentage of passengers who survived in Ware, Mr. John James: 0.00%\n",
      "Percentage of passengers who survived in Ware, Mr. William Jeffery: 0.00%\n",
      "Percentage of passengers who survived in Ware, Mrs. John James (Florence Louise Long): 100.00%\n",
      "Percentage of passengers who survived in Warren, Mr. Charles William: 0.00%\n",
      "Percentage of passengers who survived in Warren, Mr. Frank Manley: 0.00%\n",
      "Percentage of passengers who survived in Watt, Miss. Bertha J: 100.00%\n",
      "Percentage of passengers who survived in Weisz, Mr. Leopold: 0.00%\n",
      "Percentage of passengers who survived in Wells, Master. Ralph Lester: 0.00%\n",
      "Percentage of passengers who survived in Wells, Mrs. Arthur Henry (Addie\" Dart Trevaskis)\": 100.00%\n",
      "Percentage of passengers who survived in Wenzel, Mr. Linhart: 0.00%\n",
      "Percentage of passengers who survived in West, Miss. Barbara J: 100.00%\n",
      "Percentage of passengers who survived in Whabee, Mrs. George Joseph (Shawneene Abi-Saab): 100.00%\n",
      "Percentage of passengers who survived in Wheeler, Mr. Edwin Frederick\"\": 0.00%\n",
      "Percentage of passengers who survived in White, Mrs. John Stuart (Ella Holmes): 100.00%\n",
      "Percentage of passengers who survived in Wick, Mr. George Dennick: 0.00%\n",
      "Percentage of passengers who survived in Widener, Mr. George Dunton: 0.00%\n",
      "Percentage of passengers who survived in Widener, Mrs. George Dunton (Eleanor Elkins): 100.00%\n",
      "Percentage of passengers who survived in Wiklund, Mr. Karl Johan: 0.00%\n",
      "Percentage of passengers who survived in Wilkes, Mrs. James (Ellen Needs): 100.00%\n",
      "Percentage of passengers who survived in Willard, Miss. Constance: 100.00%\n",
      "Percentage of passengers who survived in Willer, Mr. Aaron (Abi Weller\")\": 0.00%\n",
      "Percentage of passengers who survived in Williams, Mr. Richard Norris II: 0.00%\n",
      "Percentage of passengers who survived in Wilson, Miss. Helen Alice: 100.00%\n",
      "Percentage of passengers who survived in Wirz, Mr. Albert: 0.00%\n",
      "Percentage of passengers who survived in Wittevrongel, Mr. Camille: 0.00%\n",
      "Percentage of passengers who survived in Wright, Miss. Marion: 100.00%\n",
      "Percentage of passengers who survived in Zakarian, Mr. Mapriededer: 0.00%\n",
      "Percentage of passengers who survived in Zakarian, Mr. Ortin: 0.00%\n",
      "Percentage of passengers who survived in de Brito, Mr. Jose Joaquim: 0.00%\n",
      "Percentage of passengers who survived in de Messemaeker, Mr. Guillaume Joseph: 0.00%\n",
      "Percentage of passengers who survived in del Carlo, Mrs. Sebastiano (Argenia Genovesi): 100.00%\n",
      "Percentage of passengers who survived in van Billiard, Master. James William: 0.00%\n",
      "Percentage of passengers who survived in van Billiard, Master. Walter John: 0.00%\n"
     ]
    }
   ],
   "source": [
    "# Group the DataFrame by 'Name' and calculate the mean survival rate\n",
    "survival_mean_by_name = df.groupby(['Name'])['Survived'].mean() * 100\n",
    "\n",
    "for name, percentage in survival_mean_by_name.items():\n",
    "    print(f\"Percentage of passengers who survived in {name}: {percentage:.2f}%\")"
   ]
  },
  {
   "cell_type": "code",
   "execution_count": 30,
   "id": "f13f1934",
   "metadata": {
    "execution": {
     "iopub.execute_input": "2023-12-01T14:25:09.065956Z",
     "iopub.status.busy": "2023-12-01T14:25:09.065411Z",
     "iopub.status.idle": "2023-12-01T14:25:09.074825Z",
     "shell.execute_reply": "2023-12-01T14:25:09.073247Z"
    },
    "papermill": {
     "duration": 0.042041,
     "end_time": "2023-12-01T14:25:09.077964",
     "exception": false,
     "start_time": "2023-12-01T14:25:09.035923",
     "status": "completed"
    },
    "tags": []
   },
   "outputs": [
    {
     "name": "stdout",
     "output_type": "stream",
     "text": [
      "Percentage of passengers who survived in 0: 31.10%\n",
      "Percentage of passengers who survived in 1: 49.09%\n",
      "Percentage of passengers who survived in 2: 42.86%\n",
      "Percentage of passengers who survived in 3: 25.00%\n",
      "Percentage of passengers who survived in 4: 25.00%\n",
      "Percentage of passengers who survived in 5: 100.00%\n",
      "Percentage of passengers who survived in 8: 50.00%\n"
     ]
    }
   ],
   "source": [
    "# Group the DataFrame by 'SibSp' and calculate the mean survival rate\n",
    "survival_mean_by_SibSp = df.groupby(['SibSp'])['Survived'].mean() * 100\n",
    "\n",
    "for sibsp, percentage in survival_mean_by_SibSp.items():\n",
    "    print(f\"Percentage of passengers who survived in {sibsp}: {percentage:.2f}%\")\n"
   ]
  },
  {
   "cell_type": "code",
   "execution_count": 31,
   "id": "c4ca4626",
   "metadata": {
    "execution": {
     "iopub.execute_input": "2023-12-01T14:25:09.137064Z",
     "iopub.status.busy": "2023-12-01T14:25:09.136618Z",
     "iopub.status.idle": "2023-12-01T14:25:09.145307Z",
     "shell.execute_reply": "2023-12-01T14:25:09.144116Z"
    },
    "papermill": {
     "duration": 0.041345,
     "end_time": "2023-12-01T14:25:09.148056",
     "exception": false,
     "start_time": "2023-12-01T14:25:09.106711",
     "status": "completed"
    },
    "tags": []
   },
   "outputs": [
    {
     "name": "stdout",
     "output_type": "stream",
     "text": [
      "Percentage of passengers who survived in 0: 30.56%\n",
      "Percentage of passengers who survived in 1: 53.85%\n",
      "Percentage of passengers who survived in 2: 60.61%\n",
      "Percentage of passengers who survived in 3: 66.67%\n",
      "Percentage of passengers who survived in 4: 100.00%\n",
      "Percentage of passengers who survived in 5: 0.00%\n",
      "Percentage of passengers who survived in 6: 0.00%\n",
      "Percentage of passengers who survived in 9: 50.00%\n"
     ]
    }
   ],
   "source": [
    "# Group the DataFrame by 'Parch' and calculate the mean survival rate\n",
    "survival_mean_by_Parch = df.groupby(['Parch'])['Survived'].mean() * 100\n",
    "\n",
    "for parch, percentage in survival_mean_by_Parch.items():\n",
    "    print(f\"Percentage of passengers who survived in {parch}: {percentage:.2f}%\")\n",
    "\n"
   ]
  },
  {
   "cell_type": "code",
   "execution_count": 32,
   "id": "56663728",
   "metadata": {
    "execution": {
     "iopub.execute_input": "2023-12-01T14:25:09.205264Z",
     "iopub.status.busy": "2023-12-01T14:25:09.204370Z",
     "iopub.status.idle": "2023-12-01T14:25:09.218480Z",
     "shell.execute_reply": "2023-12-01T14:25:09.217061Z"
    },
    "papermill": {
     "duration": 0.047573,
     "end_time": "2023-12-01T14:25:09.223305",
     "exception": false,
     "start_time": "2023-12-01T14:25:09.175732",
     "status": "completed"
    },
    "tags": []
   },
   "outputs": [
    {
     "name": "stdout",
     "output_type": "stream",
     "text": [
      "Percentage of passengers who survived in 110469: 0.00%\n",
      "Percentage of passengers who survived in 110489: 0.00%\n",
      "Percentage of passengers who survived in 110813: 0.00%\n",
      "Percentage of passengers who survived in 111163: 0.00%\n",
      "Percentage of passengers who survived in 112051: 0.00%\n",
      "Percentage of passengers who survived in 112058: 0.00%\n",
      "Percentage of passengers who survived in 112377: 100.00%\n",
      "Percentage of passengers who survived in 112378: 100.00%\n",
      "Percentage of passengers who survived in 112901: 100.00%\n",
      "Percentage of passengers who survived in 113038: 0.00%\n",
      "Percentage of passengers who survived in 113044: 0.00%\n",
      "Percentage of passengers who survived in 113054: 0.00%\n",
      "Percentage of passengers who survived in 113059: 0.00%\n",
      "Percentage of passengers who survived in 113503: 50.00%\n",
      "Percentage of passengers who survived in 113509: 100.00%\n",
      "Percentage of passengers who survived in 113773: 100.00%\n",
      "Percentage of passengers who survived in 113778: 0.00%\n",
      "Percentage of passengers who survived in 113780: 0.00%\n",
      "Percentage of passengers who survived in 113781: 50.00%\n",
      "Percentage of passengers who survived in 113790: 0.00%\n",
      "Percentage of passengers who survived in 113791: 0.00%\n",
      "Percentage of passengers who survived in 113795: 100.00%\n",
      "Percentage of passengers who survived in 113796: 0.00%\n",
      "Percentage of passengers who survived in 113801: 0.00%\n",
      "Percentage of passengers who survived in 11753: 100.00%\n",
      "Percentage of passengers who survived in 11765: 100.00%\n",
      "Percentage of passengers who survived in 11767: 100.00%\n",
      "Percentage of passengers who survived in 11769: 100.00%\n",
      "Percentage of passengers who survived in 11770: 100.00%\n",
      "Percentage of passengers who survived in 11778: 50.00%\n",
      "Percentage of passengers who survived in 11813: 100.00%\n",
      "Percentage of passengers who survived in 1222: 0.00%\n",
      "Percentage of passengers who survived in 12749: 0.00%\n",
      "Percentage of passengers who survived in 13050: 0.00%\n",
      "Percentage of passengers who survived in 13236: 50.00%\n",
      "Percentage of passengers who survived in 13508: 50.00%\n",
      "Percentage of passengers who survived in 13567: 100.00%\n",
      "Percentage of passengers who survived in 13695: 50.00%\n",
      "Percentage of passengers who survived in 13905: 0.00%\n",
      "Percentage of passengers who survived in 1601: 0.00%\n",
      "Percentage of passengers who survived in 16966: 33.33%\n",
      "Percentage of passengers who survived in 17463: 0.00%\n",
      "Percentage of passengers who survived in 17464: 0.00%\n",
      "Percentage of passengers who survived in 17475: 0.00%\n",
      "Percentage of passengers who survived in 17765: 0.00%\n",
      "Percentage of passengers who survived in 17770: 100.00%\n",
      "Percentage of passengers who survived in 19877: 100.00%\n",
      "Percentage of passengers who survived in 19924: 0.00%\n",
      "Percentage of passengers who survived in 19928: 100.00%\n",
      "Percentage of passengers who survived in 19950: 100.00%\n",
      "Percentage of passengers who survived in 2003: 0.00%\n",
      "Percentage of passengers who survived in 211535: 0.00%\n",
      "Percentage of passengers who survived in 21228: 50.00%\n",
      "Percentage of passengers who survived in 21332: 0.00%\n",
      "Percentage of passengers who survived in 220844: 100.00%\n",
      "Percentage of passengers who survived in 220845: 33.33%\n",
      "Percentage of passengers who survived in 226875: 0.00%\n",
      "Percentage of passengers who survived in 228414: 0.00%\n",
      "Percentage of passengers who survived in 230136: 100.00%\n",
      "Percentage of passengers who survived in 233478: 0.00%\n",
      "Percentage of passengers who survived in 233734: 0.00%\n",
      "Percentage of passengers who survived in 235509: 0.00%\n",
      "Percentage of passengers who survived in 236853: 100.00%\n",
      "Percentage of passengers who survived in 236854: 0.00%\n",
      "Percentage of passengers who survived in 237216: 0.00%\n",
      "Percentage of passengers who survived in 237249: 100.00%\n",
      "Percentage of passengers who survived in 237393: 0.00%\n",
      "Percentage of passengers who survived in 237670: 0.00%\n",
      "Percentage of passengers who survived in 237734: 0.00%\n",
      "Percentage of passengers who survived in 237735: 0.00%\n",
      "Percentage of passengers who survived in 237789: 100.00%\n",
      "Percentage of passengers who survived in 239059: 0.00%\n",
      "Percentage of passengers who survived in 240261: 0.00%\n",
      "Percentage of passengers who survived in 240276: 0.00%\n",
      "Percentage of passengers who survived in 24065: 50.00%\n",
      "Percentage of passengers who survived in 24160: 100.00%\n",
      "Percentage of passengers who survived in 242963: 0.00%\n",
      "Percentage of passengers who survived in 244346: 0.00%\n",
      "Percentage of passengers who survived in 244358: 0.00%\n",
      "Percentage of passengers who survived in 244360: 0.00%\n",
      "Percentage of passengers who survived in 244368: 0.00%\n",
      "Percentage of passengers who survived in 248659: 0.00%\n",
      "Percentage of passengers who survived in 248726: 0.00%\n",
      "Percentage of passengers who survived in 248734: 0.00%\n",
      "Percentage of passengers who survived in 248738: 0.00%\n",
      "Percentage of passengers who survived in 248744: 0.00%\n",
      "Percentage of passengers who survived in 248746: 0.00%\n",
      "Percentage of passengers who survived in 250650: 100.00%\n",
      "Percentage of passengers who survived in 250651: 0.00%\n",
      "Percentage of passengers who survived in 2543: 0.00%\n",
      "Percentage of passengers who survived in 2621: 0.00%\n",
      "Percentage of passengers who survived in 2622: 0.00%\n",
      "Percentage of passengers who survived in 2625: 100.00%\n",
      "Percentage of passengers who survived in 26360: 100.00%\n",
      "Percentage of passengers who survived in 2650: 50.00%\n",
      "Percentage of passengers who survived in 2652: 0.00%\n",
      "Percentage of passengers who survived in 2653: 100.00%\n",
      "Percentage of passengers who survived in 2654: 0.00%\n",
      "Percentage of passengers who survived in 2655: 0.00%\n",
      "Percentage of passengers who survived in 2656: 0.00%\n",
      "Percentage of passengers who survived in 2657: 100.00%\n",
      "Percentage of passengers who survived in 2658: 0.00%\n",
      "Percentage of passengers who survived in 2660: 50.00%\n",
      "Percentage of passengers who survived in 2661: 100.00%\n",
      "Percentage of passengers who survived in 2662: 0.00%\n",
      "Percentage of passengers who survived in 2668: 0.00%\n",
      "Percentage of passengers who survived in 2670: 0.00%\n",
      "Percentage of passengers who survived in 26707: 100.00%\n",
      "Percentage of passengers who survived in 2673: 0.00%\n",
      "Percentage of passengers who survived in 2675: 0.00%\n",
      "Percentage of passengers who survived in 2676: 0.00%\n",
      "Percentage of passengers who survived in 2678: 0.00%\n",
      "Percentage of passengers who survived in 2679: 0.00%\n",
      "Percentage of passengers who survived in 2680: 0.00%\n",
      "Percentage of passengers who survived in 2681: 0.00%\n",
      "Percentage of passengers who survived in 2682: 0.00%\n",
      "Percentage of passengers who survived in 2684: 0.00%\n",
      "Percentage of passengers who survived in 2688: 100.00%\n",
      "Percentage of passengers who survived in 2689: 0.00%\n",
      "Percentage of passengers who survived in 2692: 0.00%\n",
      "Percentage of passengers who survived in 2696: 100.00%\n",
      "Percentage of passengers who survived in 2698: 0.00%\n",
      "Percentage of passengers who survived in 28004: 0.00%\n",
      "Percentage of passengers who survived in 28034: 0.00%\n",
      "Percentage of passengers who survived in 28133: 0.00%\n",
      "Percentage of passengers who survived in 28220: 0.00%\n",
      "Percentage of passengers who survived in 28221: 0.00%\n",
      "Percentage of passengers who survived in 28404: 100.00%\n",
      "Percentage of passengers who survived in 28664: 0.00%\n",
      "Percentage of passengers who survived in 28666: 0.00%\n",
      "Percentage of passengers who survived in 29103: 50.00%\n",
      "Percentage of passengers who survived in 29105: 100.00%\n",
      "Percentage of passengers who survived in 29107: 0.00%\n",
      "Percentage of passengers who survived in 2926: 0.00%\n",
      "Percentage of passengers who survived in 29750: 100.00%\n",
      "Percentage of passengers who survived in 3101266: 0.00%\n",
      "Percentage of passengers who survived in 3101295: 100.00%\n",
      "Percentage of passengers who survived in 3101297: 100.00%\n",
      "Percentage of passengers who survived in 3101298: 100.00%\n",
      "Percentage of passengers who survived in 315083: 0.00%\n",
      "Percentage of passengers who survived in 315085: 100.00%\n",
      "Percentage of passengers who survived in 315087: 100.00%\n",
      "Percentage of passengers who survived in 315091: 0.00%\n",
      "Percentage of passengers who survived in 315092: 0.00%\n",
      "Percentage of passengers who survived in 315095: 0.00%\n",
      "Percentage of passengers who survived in 315152: 100.00%\n",
      "Percentage of passengers who survived in 315153: 50.00%\n",
      "Percentage of passengers who survived in 315154: 0.00%\n",
      "Percentage of passengers who survived in 32302: 0.00%\n",
      "Percentage of passengers who survived in 329944: 100.00%\n",
      "Percentage of passengers who survived in 330844: 100.00%\n",
      "Percentage of passengers who survived in 330910: 0.00%\n",
      "Percentage of passengers who survived in 330911: 0.00%\n",
      "Percentage of passengers who survived in 330920: 0.00%\n",
      "Percentage of passengers who survived in 330924: 100.00%\n",
      "Percentage of passengers who survived in 330963: 100.00%\n",
      "Percentage of passengers who survived in 330968: 100.00%\n",
      "Percentage of passengers who survived in 330971: 0.00%\n",
      "Percentage of passengers who survived in 330972: 100.00%\n",
      "Percentage of passengers who survived in 334914: 100.00%\n",
      "Percentage of passengers who survived in 334915: 100.00%\n",
      "Percentage of passengers who survived in 335432: 100.00%\n",
      "Percentage of passengers who survived in 33638: 50.00%\n",
      "Percentage of passengers who survived in 3410: 0.00%\n",
      "Percentage of passengers who survived in 342441: 0.00%\n",
      "Percentage of passengers who survived in 342684: 0.00%\n",
      "Percentage of passengers who survived in 342712: 100.00%\n",
      "Percentage of passengers who survived in 343271: 0.00%\n",
      "Percentage of passengers who survived in 345498: 0.00%\n",
      "Percentage of passengers who survived in 345501: 0.00%\n",
      "Percentage of passengers who survived in 345572: 0.00%\n",
      "Percentage of passengers who survived in 345763: 0.00%\n",
      "Percentage of passengers who survived in 345768: 0.00%\n",
      "Percentage of passengers who survived in 345771: 0.00%\n",
      "Percentage of passengers who survived in 345775: 0.00%\n",
      "Percentage of passengers who survived in 3470: 0.00%\n",
      "Percentage of passengers who survived in 347065: 0.00%\n",
      "Percentage of passengers who survived in 347066: 100.00%\n",
      "Percentage of passengers who survived in 347070: 0.00%\n",
      "Percentage of passengers who survived in 347072: 50.00%\n",
      "Percentage of passengers who survived in 347075: 0.00%\n",
      "Percentage of passengers who survived in 347077: 0.00%\n",
      "Percentage of passengers who survived in 347079: 0.00%\n",
      "Percentage of passengers who survived in 347080: 0.00%\n",
      "Percentage of passengers who survived in 347086: 100.00%\n",
      "Percentage of passengers who survived in 347090: 0.00%\n",
      "Percentage of passengers who survived in 347091: 100.00%\n",
      "Percentage of passengers who survived in 347465: 0.00%\n",
      "Percentage of passengers who survived in 347467: 0.00%\n",
      "Percentage of passengers who survived in 347469: 100.00%\n",
      "Percentage of passengers who survived in 347471: 100.00%\n",
      "Percentage of passengers who survived in 348122: 0.00%\n",
      "Percentage of passengers who survived in 348125: 100.00%\n",
      "Percentage of passengers who survived in 349202: 0.00%\n",
      "Percentage of passengers who survived in 349211: 0.00%\n",
      "Percentage of passengers who survived in 349220: 0.00%\n",
      "Percentage of passengers who survived in 349226: 0.00%\n",
      "Percentage of passengers who survived in 349229: 0.00%\n",
      "Percentage of passengers who survived in 349230: 0.00%\n",
      "Percentage of passengers who survived in 349232: 0.00%\n",
      "Percentage of passengers who survived in 349235: 0.00%\n",
      "Percentage of passengers who survived in 349238: 0.00%\n",
      "Percentage of passengers who survived in 349250: 0.00%\n",
      "Percentage of passengers who survived in 349255: 0.00%\n",
      "Percentage of passengers who survived in 349256: 0.00%\n",
      "Percentage of passengers who survived in 349909: 0.00%\n",
      "Percentage of passengers who survived in 349910: 100.00%\n",
      "Percentage of passengers who survived in 349911: 0.00%\n",
      "Percentage of passengers who survived in 350026: 100.00%\n",
      "Percentage of passengers who survived in 350033: 0.00%\n",
      "Percentage of passengers who survived in 350045: 0.00%\n",
      "Percentage of passengers who survived in 350053: 0.00%\n",
      "Percentage of passengers who survived in 350054: 0.00%\n",
      "Percentage of passengers who survived in 350403: 0.00%\n",
      "Percentage of passengers who survived in 350405: 100.00%\n",
      "Percentage of passengers who survived in 350408: 0.00%\n",
      "Percentage of passengers who survived in 350409: 0.00%\n",
      "Percentage of passengers who survived in 350410: 0.00%\n",
      "Percentage of passengers who survived in 350416: 0.00%\n",
      "Percentage of passengers who survived in 359306: 0.00%\n",
      "Percentage of passengers who survived in 359309: 0.00%\n",
      "Percentage of passengers who survived in 363272: 100.00%\n",
      "Percentage of passengers who survived in 363611: 0.00%\n",
      "Percentage of passengers who survived in 364498: 100.00%\n",
      "Percentage of passengers who survived in 364856: 100.00%\n",
      "Percentage of passengers who survived in 364858: 0.00%\n",
      "Percentage of passengers who survived in 364859: 100.00%\n",
      "Percentage of passengers who survived in 365235: 0.00%\n",
      "Percentage of passengers who survived in 365237: 100.00%\n",
      "Percentage of passengers who survived in 36568: 100.00%\n",
      "Percentage of passengers who survived in 366713: 0.00%\n",
      "Percentage of passengers who survived in 367226: 100.00%\n",
      "Percentage of passengers who survived in 367227: 0.00%\n",
      "Percentage of passengers who survived in 368364: 100.00%\n",
      "Percentage of passengers who survived in 368402: 0.00%\n",
      "Percentage of passengers who survived in 368573: 0.00%\n",
      "Percentage of passengers who survived in 368702: 100.00%\n",
      "Percentage of passengers who survived in 368783: 0.00%\n",
      "Percentage of passengers who survived in 36928: 50.00%\n",
      "Percentage of passengers who survived in 3701: 0.00%\n",
      "Percentage of passengers who survived in 370129: 100.00%\n",
      "Percentage of passengers who survived in 370368: 100.00%\n",
      "Percentage of passengers who survived in 370371: 100.00%\n",
      "Percentage of passengers who survived in 370374: 0.00%\n",
      "Percentage of passengers who survived in 371109: 0.00%\n",
      "Percentage of passengers who survived in 371362: 100.00%\n",
      "Percentage of passengers who survived in 376563: 0.00%\n",
      "Percentage of passengers who survived in 376566: 100.00%\n",
      "Percentage of passengers who survived in 382650: 100.00%\n",
      "Percentage of passengers who survived in 382652: 0.00%\n",
      "Percentage of passengers who survived in 382653: 100.00%\n",
      "Percentage of passengers who survived in 383123: 100.00%\n",
      "Percentage of passengers who survived in 383162: 0.00%\n",
      "Percentage of passengers who survived in 386525: 0.00%\n",
      "Percentage of passengers who survived in 392091: 0.00%\n",
      "Percentage of passengers who survived in 392095: 0.00%\n",
      "Percentage of passengers who survived in 4133: 100.00%\n",
      "Percentage of passengers who survived in 65305: 100.00%\n",
      "Percentage of passengers who survived in 680: 0.00%\n",
      "Percentage of passengers who survived in 694: 0.00%\n",
      "Percentage of passengers who survived in 7266: 0.00%\n",
      "Percentage of passengers who survived in 7538: 0.00%\n",
      "Percentage of passengers who survived in 7548: 100.00%\n",
      "Percentage of passengers who survived in 7935: 0.00%\n",
      "Percentage of passengers who survived in 9232: 100.00%\n",
      "Percentage of passengers who survived in A. 2. 39186: 100.00%\n",
      "Percentage of passengers who survived in A./5. 3338: 0.00%\n",
      "Percentage of passengers who survived in A.5. 3236: 0.00%\n",
      "Percentage of passengers who survived in A/4 31416: 100.00%\n",
      "Percentage of passengers who survived in A/4 48871: 0.00%\n",
      "Percentage of passengers who survived in A/4 48873: 0.00%\n",
      "Percentage of passengers who survived in A/5 1478: 0.00%\n",
      "Percentage of passengers who survived in A/5 21175: 0.00%\n",
      "Percentage of passengers who survived in A/5. 3337: 0.00%\n",
      "Percentage of passengers who survived in A/5. 851: 0.00%\n",
      "Percentage of passengers who survived in AQ/3. 30631: 100.00%\n",
      "Percentage of passengers who survived in AQ/4 3130: 0.00%\n",
      "Percentage of passengers who survived in C 17368: 0.00%\n",
      "Percentage of passengers who survived in C 4001: 0.00%\n",
      "Percentage of passengers who survived in C.A. 15185: 0.00%\n",
      "Percentage of passengers who survived in C.A. 2315: 100.00%\n",
      "Percentage of passengers who survived in C.A. 2673: 0.00%\n",
      "Percentage of passengers who survived in C.A. 30769: 0.00%\n",
      "Percentage of passengers who survived in C.A. 31029: 0.00%\n",
      "Percentage of passengers who survived in C.A. 31030: 0.00%\n",
      "Percentage of passengers who survived in C.A. 33112: 100.00%\n",
      "Percentage of passengers who survived in C.A. 33595: 100.00%\n",
      "Percentage of passengers who survived in C.A. 34050: 0.00%\n",
      "Percentage of passengers who survived in C.A. 34644: 0.00%\n",
      "Percentage of passengers who survived in C.A. 34651: 100.00%\n",
      "Percentage of passengers who survived in C.A. 37671: 100.00%\n",
      "Percentage of passengers who survived in C.A. 42795: 0.00%\n",
      "Percentage of passengers who survived in C.A. 49867: 0.00%\n",
      "Percentage of passengers who survived in C.A. 6212: 0.00%\n",
      "Percentage of passengers who survived in CA 2144: 50.00%\n",
      "Percentage of passengers who survived in CA 31352: 50.00%\n",
      "Percentage of passengers who survived in CA. 2343: 50.00%\n",
      "Percentage of passengers who survived in F.C. 12750: 100.00%\n",
      "Percentage of passengers who survived in F.C. 12998: 0.00%\n",
      "Percentage of passengers who survived in F.C.C. 13528: 100.00%\n",
      "Percentage of passengers who survived in F.C.C. 13534: 100.00%\n",
      "Percentage of passengers who survived in F.C.C. 13540: 0.00%\n",
      "Percentage of passengers who survived in LP 1588: 0.00%\n",
      "Percentage of passengers who survived in PC 17483: 66.67%\n",
      "Percentage of passengers who survived in PC 17531: 100.00%\n",
      "Percentage of passengers who survived in PC 17558: 100.00%\n",
      "Percentage of passengers who survived in PC 17562: 0.00%\n",
      "Percentage of passengers who survived in PC 17569: 0.00%\n",
      "Percentage of passengers who survived in PC 17580: 0.00%\n",
      "Percentage of passengers who survived in PC 17585: 0.00%\n",
      "Percentage of passengers who survived in PC 17591: 0.00%\n",
      "Percentage of passengers who survived in PC 17592: 100.00%\n",
      "Percentage of passengers who survived in PC 17594: 0.00%\n",
      "Percentage of passengers who survived in PC 17597: 0.00%\n",
      "Percentage of passengers who survived in PC 17598: 100.00%\n",
      "Percentage of passengers who survived in PC 17599: 0.00%\n",
      "Percentage of passengers who survived in PC 17603: 0.00%\n",
      "Percentage of passengers who survived in PC 17606: 100.00%\n",
      "Percentage of passengers who survived in PC 17607: 0.00%\n",
      "Percentage of passengers who survived in PC 17608: 60.00%\n",
      "Percentage of passengers who survived in PC 17613: 100.00%\n",
      "Percentage of passengers who survived in PC 17755: 100.00%\n",
      "Percentage of passengers who survived in PC 17756: 50.00%\n",
      "Percentage of passengers who survived in PC 17757: 0.00%\n",
      "Percentage of passengers who survived in PC 17758: 100.00%\n",
      "Percentage of passengers who survived in PC 17759: 100.00%\n",
      "Percentage of passengers who survived in PC 17760: 100.00%\n",
      "Percentage of passengers who survived in PC 17761: 100.00%\n",
      "Percentage of passengers who survived in PP 9549: 100.00%\n",
      "Percentage of passengers who survived in S.C./PARIS 2079: 100.00%\n",
      "Percentage of passengers who survived in S.O./P.P. 2: 50.00%\n",
      "Percentage of passengers who survived in S.O./P.P. 251: 0.00%\n",
      "Percentage of passengers who survived in S.O./P.P. 752: 0.00%\n",
      "Percentage of passengers who survived in S.O.C. 14879: 0.00%\n",
      "Percentage of passengers who survived in SC 14888: 0.00%\n",
      "Percentage of passengers who survived in SC/A.3 2861: 0.00%\n",
      "Percentage of passengers who survived in SC/A4 23568: 0.00%\n",
      "Percentage of passengers who survived in SC/AH 29037: 100.00%\n",
      "Percentage of passengers who survived in SC/AH 3085: 0.00%\n",
      "Percentage of passengers who survived in SC/PARIS 2147: 0.00%\n",
      "Percentage of passengers who survived in SC/PARIS 2148: 100.00%\n",
      "Percentage of passengers who survived in SC/PARIS 2159: 0.00%\n",
      "Percentage of passengers who survived in SC/PARIS 2166: 0.00%\n",
      "Percentage of passengers who survived in SC/PARIS 2167: 100.00%\n",
      "Percentage of passengers who survived in SC/PARIS 2168: 0.00%\n",
      "Percentage of passengers who survived in SC/Paris 2123: 100.00%\n",
      "Percentage of passengers who survived in SOTON/O.Q. 3101262: 0.00%\n",
      "Percentage of passengers who survived in SOTON/O.Q. 3101263: 0.00%\n",
      "Percentage of passengers who survived in SOTON/O.Q. 3101308: 0.00%\n",
      "Percentage of passengers who survived in SOTON/O.Q. 3101309: 0.00%\n",
      "Percentage of passengers who survived in SOTON/O.Q. 3101314: 0.00%\n",
      "Percentage of passengers who survived in SOTON/O.Q. 3101315: 66.67%\n",
      "Percentage of passengers who survived in SOTON/O2 3101284: 0.00%\n",
      "Percentage of passengers who survived in SOTON/OQ 392083: 100.00%\n",
      "Percentage of passengers who survived in STON/O 2. 3101268: 0.00%\n",
      "Percentage of passengers who survived in STON/O 2. 3101291: 0.00%\n",
      "Percentage of passengers who survived in STON/O2. 3101270: 100.00%\n",
      "Percentage of passengers who survived in STON/OQ. 369943: 0.00%\n",
      "Percentage of passengers who survived in W./C. 14260: 0.00%\n",
      "Percentage of passengers who survived in W./C. 14266: 100.00%\n",
      "Percentage of passengers who survived in W./C. 6607: 50.00%\n",
      "Percentage of passengers who survived in W./C. 6608: 0.00%\n",
      "Percentage of passengers who survived in W.E.P. 5734: 100.00%\n"
     ]
    }
   ],
   "source": [
    "# Group the DataFrame by 'Embarked' and calculate the mean survival rate\n",
    "survival_mean_by_Embarked = df.groupby(['Ticket'])['Survived'].mean() * 100\n",
    "\n",
    "for embarked, percentage in survival_mean_by_Embarked.items():\n",
    "    print(f\"Percentage of passengers who survived in {embarked}: {percentage:.2f}%\")\n",
    "\n",
    "\n"
   ]
  },
  {
   "cell_type": "code",
   "execution_count": 33,
   "id": "c800e0cc",
   "metadata": {
    "execution": {
     "iopub.execute_input": "2023-12-01T14:25:09.282143Z",
     "iopub.status.busy": "2023-12-01T14:25:09.281738Z",
     "iopub.status.idle": "2023-12-01T14:25:09.290562Z",
     "shell.execute_reply": "2023-12-01T14:25:09.289187Z"
    },
    "papermill": {
     "duration": 0.040841,
     "end_time": "2023-12-01T14:25:09.293569",
     "exception": false,
     "start_time": "2023-12-01T14:25:09.252728",
     "status": "completed"
    },
    "tags": []
   },
   "outputs": [
    {
     "name": "stdout",
     "output_type": "stream",
     "text": [
      "Percentage of passengers who survived in 0: 29.41%\n",
      "Percentage of passengers who survived in 1: 21.95%\n",
      "Percentage of passengers who survived in 2: 39.76%\n",
      "Percentage of passengers who survived in 3: 38.10%\n",
      "Percentage of passengers who survived in 4: 52.38%\n"
     ]
    }
   ],
   "source": [
    "# Group the DataFrame by 'Fare' and calculate the mean survival rate\n",
    "survival_mean_by_Fare = df.groupby(['Fare'])['Survived'].mean() * 100\n",
    "\n",
    "for fare, percentage in survival_mean_by_Fare.items():\n",
    "    print(f\"Percentage of passengers who survived in {fare}: {percentage:.2f}%\")\n"
   ]
  },
  {
   "cell_type": "code",
   "execution_count": 34,
   "id": "32c70444",
   "metadata": {
    "execution": {
     "iopub.execute_input": "2023-12-01T14:25:09.353719Z",
     "iopub.status.busy": "2023-12-01T14:25:09.353273Z",
     "iopub.status.idle": "2023-12-01T14:25:09.362093Z",
     "shell.execute_reply": "2023-12-01T14:25:09.360685Z"
    },
    "papermill": {
     "duration": 0.042945,
     "end_time": "2023-12-01T14:25:09.365003",
     "exception": false,
     "start_time": "2023-12-01T14:25:09.322058",
     "status": "completed"
    },
    "tags": []
   },
   "outputs": [
    {
     "name": "stdout",
     "output_type": "stream",
     "text": [
      "Percentage of passengers who survived in 0: 39.81%\n",
      "Percentage of passengers who survived in 1: 38.57%\n",
      "Percentage of passengers who survived in 2: 33.73%\n",
      "Percentage of passengers who survived in 3: 29.07%\n",
      "Percentage of passengers who survived in 42: 14.29%\n",
      "Percentage of passengers who survived in 43: 14.29%\n",
      "Percentage of passengers who survived in 44: 0.00%\n",
      "Percentage of passengers who survived in 45: 77.78%\n",
      "Percentage of passengers who survived in 46: 0.00%\n",
      "Percentage of passengers who survived in 47: 40.00%\n",
      "Percentage of passengers who survived in 48: 80.00%\n",
      "Percentage of passengers who survived in 49: 0.00%\n",
      "Percentage of passengers who survived in 50: 20.00%\n",
      "Percentage of passengers who survived in 51: 100.00%\n",
      "Percentage of passengers who survived in 53: 33.33%\n",
      "Percentage of passengers who survived in 54: 50.00%\n",
      "Percentage of passengers who survived in 55: 50.00%\n",
      "Percentage of passengers who survived in 57: 0.00%\n",
      "Percentage of passengers who survived in 58: 100.00%\n",
      "Percentage of passengers who survived in 59: 100.00%\n",
      "Percentage of passengers who survived in 60: 75.00%\n",
      "Percentage of passengers who survived in 61: 0.00%\n",
      "Percentage of passengers who survived in 62: 0.00%\n",
      "Percentage of passengers who survived in 63: 50.00%\n",
      "Percentage of passengers who survived in 64: 66.67%\n",
      "Percentage of passengers who survived in 67: 0.00%\n",
      "Percentage of passengers who survived in 76: 100.00%\n"
     ]
    }
   ],
   "source": [
    "# Group the DataFrame by 'Age' and calculate the mean survival rate\n",
    "survival_mean_by_Age = df.groupby(['Age'])['Survived'].mean() * 100\n",
    "\n",
    "for age, percentage in survival_mean_by_Age.items():\n",
    "    print(f\"Percentage of passengers who survived in {age}: {percentage:.2f}%\")\n",
    "\n",
    "\n"
   ]
  },
  {
   "cell_type": "markdown",
   "id": "5418a9c4",
   "metadata": {
    "papermill": {
     "duration": 0.027591,
     "end_time": "2023-12-01T14:25:09.420442",
     "exception": false,
     "start_time": "2023-12-01T14:25:09.392851",
     "status": "completed"
    },
    "tags": []
   },
   "source": [
    "<div style=\"text-align: center;\">\n",
    "  <h2>📈 Data Visualization</h2>\n",
    "</div>"
   ]
  },
  {
   "cell_type": "code",
   "execution_count": 35,
   "id": "84fad959",
   "metadata": {
    "execution": {
     "iopub.execute_input": "2023-12-01T14:25:09.478975Z",
     "iopub.status.busy": "2023-12-01T14:25:09.478549Z",
     "iopub.status.idle": "2023-12-01T14:25:10.138138Z",
     "shell.execute_reply": "2023-12-01T14:25:10.137190Z"
    },
    "papermill": {
     "duration": 0.690839,
     "end_time": "2023-12-01T14:25:10.140515",
     "exception": false,
     "start_time": "2023-12-01T14:25:09.449676",
     "status": "completed"
    },
    "tags": []
   },
   "outputs": [
    {
     "data": {
      "image/png": "[encoded data removed]",
      "text/plain": [
       "<Figure size 1000x600 with 2 Axes>"
      ]
     },
     "metadata": {},
     "output_type": "display_data"
    }
   ],
   "source": [
    "plt.figure(figsize=[10, 6])  # Adjust the figure size as needed\n",
    "sns.heatmap(df.select_dtypes(include=['number']).corr(), annot=True, cmap='coolwarm')\n",
    "plt.show()\n"
   ]
  },
  {
   "cell_type": "code",
   "execution_count": 36,
   "id": "71d90c64",
   "metadata": {
    "execution": {
     "iopub.execute_input": "2023-12-01T14:25:10.202977Z",
     "iopub.status.busy": "2023-12-01T14:25:10.202098Z",
     "iopub.status.idle": "2023-12-01T14:25:10.208178Z",
     "shell.execute_reply": "2023-12-01T14:25:10.206990Z"
    },
    "papermill": {
     "duration": 0.0395,
     "end_time": "2023-12-01T14:25:10.210698",
     "exception": false,
     "start_time": "2023-12-01T14:25:10.171198",
     "status": "completed"
    },
    "tags": []
   },
   "outputs": [],
   "source": [
    "sns.set()"
   ]
  },
  {
   "cell_type": "code",
   "execution_count": 37,
   "id": "6c062018",
   "metadata": {
    "execution": {
     "iopub.execute_input": "2023-12-01T14:25:10.272037Z",
     "iopub.status.busy": "2023-12-01T14:25:10.271321Z",
     "iopub.status.idle": "2023-12-01T14:25:10.541699Z",
     "shell.execute_reply": "2023-12-01T14:25:10.539848Z"
    },
    "papermill": {
     "duration": 0.306658,
     "end_time": "2023-12-01T14:25:10.546627",
     "exception": false,
     "start_time": "2023-12-01T14:25:10.239969",
     "status": "completed"
    },
    "tags": []
   },
   "outputs": [
    {
     "data": {
      "image/png": "[encoded data removed]",
      "text/plain": [
       "<Figure size 640x480 with 1 Axes>"
      ]
     },
     "metadata": {},
     "output_type": "display_data"
    }
   ],
   "source": [
    "custom_palette = {0: 'Blue', 1: 'Gold'}\n",
    "\n",
    "sns.countplot(x='Survived', data=df, palette=custom_palette)\n",
    "\n",
    "plt.xlabel('Survived')\n",
    "plt.ylabel('Outcome')\n",
    "\n",
    "plt.text(0, df['Survived'].value_counts()[0], '0 = Not Survived', ha='center' ,fontsize=10)\n",
    "plt.text(1, df['Survived'].value_counts()[1], '1 = Survived', ha='center' ,fontsize=10)\n",
    "\n",
    "plt.show()\n"
   ]
  },
  {
   "cell_type": "code",
   "execution_count": 38,
   "id": "b24b180e",
   "metadata": {
    "execution": {
     "iopub.execute_input": "2023-12-01T14:25:10.611753Z",
     "iopub.status.busy": "2023-12-01T14:25:10.611333Z",
     "iopub.status.idle": "2023-12-01T14:25:11.344427Z",
     "shell.execute_reply": "2023-12-01T14:25:11.343496Z"
    },
    "papermill": {
     "duration": 0.767329,
     "end_time": "2023-12-01T14:25:11.346824",
     "exception": false,
     "start_time": "2023-12-01T14:25:10.579495",
     "status": "completed"
    },
    "tags": []
   },
   "outputs": [
    {
     "name": "stderr",
     "output_type": "stream",
     "text": [
      "/tmp/ipykernel_20/3556318222.py:2: UserWarning: \n",
      "\n",
      "`distplot` is a deprecated function and will be removed in seaborn v0.14.0.\n",
      "\n",
      "Please adapt your code to use either `displot` (a figure-level function with\n",
      "similar flexibility) or `histplot` (an axes-level function for histograms).\n",
      "\n",
      "For a guide to updating your code to use the new functions, please see\n",
      "https://gist.github.com/mwaskom/de44147ed2974457ad6372750bbe5751\n",
      "\n",
      "  sns.distplot(df['Age'][df['Survived'] == 0], label=\"Not Survived\" , color = 'Blue')\n",
      "/tmp/ipykernel_20/3556318222.py:4: UserWarning: \n",
      "\n",
      "`distplot` is a deprecated function and will be removed in seaborn v0.14.0.\n",
      "\n",
      "Please adapt your code to use either `displot` (a figure-level function with\n",
      "similar flexibility) or `histplot` (an axes-level function for histograms).\n",
      "\n",
      "For a guide to updating your code to use the new functions, please see\n",
      "https://gist.github.com/mwaskom/de44147ed2974457ad6372750bbe5751\n",
      "\n",
      "  sns.distplot(df['Age'][df['Survived'] == 1], label=\"Survived\" ,  color = 'Gold')\n"
     ]
    },
    {
     "data": {
      "image/png": "[encoded data removed]",
      "text/plain": [
       "<Figure size 640x480 with 1 Axes>"
      ]
     },
     "metadata": {},
     "output_type": "display_data"
    }
   ],
   "source": [
    "# Distribution plot for 'Age' \n",
    "sns.distplot(df['Age'][df['Survived'] == 0], label=\"Not Survived\" , color = 'Blue')\n",
    "\n",
    "sns.distplot(df['Age'][df['Survived'] == 1], label=\"Survived\" ,  color = 'Gold')\n",
    "\n",
    "plt.xlabel('Age')\n",
    "plt.ylabel('Density') \n",
    "\n",
    "plt.legend()\n",
    "plt.show()\n"
   ]
  },
  {
   "cell_type": "code",
   "execution_count": 39,
   "id": "51100aac",
   "metadata": {
    "execution": {
     "iopub.execute_input": "2023-12-01T14:25:11.410351Z",
     "iopub.status.busy": "2023-12-01T14:25:11.409176Z",
     "iopub.status.idle": "2023-12-01T14:25:11.956411Z",
     "shell.execute_reply": "2023-12-01T14:25:11.955052Z"
    },
    "papermill": {
     "duration": 0.581788,
     "end_time": "2023-12-01T14:25:11.959024",
     "exception": false,
     "start_time": "2023-12-01T14:25:11.377236",
     "status": "completed"
    },
    "tags": []
   },
   "outputs": [
    {
     "name": "stderr",
     "output_type": "stream",
     "text": [
      "/tmp/ipykernel_20/1291904824.py:2: UserWarning: \n",
      "\n",
      "`distplot` is a deprecated function and will be removed in seaborn v0.14.0.\n",
      "\n",
      "Please adapt your code to use either `displot` (a figure-level function with\n",
      "similar flexibility) or `histplot` (an axes-level function for histograms).\n",
      "\n",
      "For a guide to updating your code to use the new functions, please see\n",
      "https://gist.github.com/mwaskom/de44147ed2974457ad6372750bbe5751\n",
      "\n",
      "  sns.distplot(df['Pclass'][df['Survived'] == 0], label=\"Not Survived\" , color = 'Blue')\n",
      "/tmp/ipykernel_20/1291904824.py:4: UserWarning: \n",
      "\n",
      "`distplot` is a deprecated function and will be removed in seaborn v0.14.0.\n",
      "\n",
      "Please adapt your code to use either `displot` (a figure-level function with\n",
      "similar flexibility) or `histplot` (an axes-level function for histograms).\n",
      "\n",
      "For a guide to updating your code to use the new functions, please see\n",
      "https://gist.github.com/mwaskom/de44147ed2974457ad6372750bbe5751\n",
      "\n",
      "  sns.distplot(df['Pclass'][df['Survived'] == 1], label=\"Survived\" ,  color = 'Gold')\n"
     ]
    },
    {
     "data": {
      "image/png": "[encoded data removed]",
      "text/plain": [
       "<Figure size 640x480 with 1 Axes>"
      ]
     },
     "metadata": {},
     "output_type": "display_data"
    }
   ],
   "source": [
    "#Distribution plot for 'Pclass'\n",
    "sns.distplot(df['Pclass'][df['Survived'] == 0], label=\"Not Survived\" , color = 'Blue')\n",
    "\n",
    "sns.distplot(df['Pclass'][df['Survived'] == 1], label=\"Survived\" ,  color = 'Gold')\n",
    "\n",
    "plt.xlabel('Pclass')\n",
    "plt.ylabel('Density') \n",
    "\n",
    "plt.legend()\n",
    "\n",
    "plt.show()"
   ]
  },
  {
   "cell_type": "code",
   "execution_count": 40,
   "id": "95522a47",
   "metadata": {
    "execution": {
     "iopub.execute_input": "2023-12-01T14:25:12.024179Z",
     "iopub.status.busy": "2023-12-01T14:25:12.023704Z",
     "iopub.status.idle": "2023-12-01T14:25:12.595886Z",
     "shell.execute_reply": "2023-12-01T14:25:12.594652Z"
    },
    "papermill": {
     "duration": 0.607535,
     "end_time": "2023-12-01T14:25:12.598628",
     "exception": false,
     "start_time": "2023-12-01T14:25:11.991093",
     "status": "completed"
    },
    "tags": []
   },
   "outputs": [
    {
     "name": "stderr",
     "output_type": "stream",
     "text": [
      "/tmp/ipykernel_20/3434530098.py:2: UserWarning: \n",
      "\n",
      "`distplot` is a deprecated function and will be removed in seaborn v0.14.0.\n",
      "\n",
      "Please adapt your code to use either `displot` (a figure-level function with\n",
      "similar flexibility) or `histplot` (an axes-level function for histograms).\n",
      "\n",
      "For a guide to updating your code to use the new functions, please see\n",
      "https://gist.github.com/mwaskom/de44147ed2974457ad6372750bbe5751\n",
      "\n",
      "  sns.distplot(df['SibSp'][df['Survived'] == 0], label=\"Not Survived\" , color = 'Blue')\n",
      "/tmp/ipykernel_20/3434530098.py:4: UserWarning: \n",
      "\n",
      "`distplot` is a deprecated function and will be removed in seaborn v0.14.0.\n",
      "\n",
      "Please adapt your code to use either `displot` (a figure-level function with\n",
      "similar flexibility) or `histplot` (an axes-level function for histograms).\n",
      "\n",
      "For a guide to updating your code to use the new functions, please see\n",
      "https://gist.github.com/mwaskom/de44147ed2974457ad6372750bbe5751\n",
      "\n",
      "  sns.distplot(df['SibSp'][df['Survived'] == 1], label=\"Survived\" ,  color = 'Gold')\n"
     ]
    },
    {
     "data": {
      "image/png": "[encoded data removed]",
      "text/plain": [
       "<Figure size 640x480 with 1 Axes>"
      ]
     },
     "metadata": {},
     "output_type": "display_data"
    }
   ],
   "source": [
    "# Distribution plot for 'SibSp'\n",
    "sns.distplot(df['SibSp'][df['Survived'] == 0], label=\"Not Survived\" , color = 'Blue')\n",
    "\n",
    "sns.distplot(df['SibSp'][df['Survived'] == 1], label=\"Survived\" ,  color = 'Gold')\n",
    "\n",
    "plt.xlabel('SibSp')\n",
    "plt.ylabel('Density')  \n",
    "\n",
    "plt.legend()\n",
    "\n",
    "plt.show()"
   ]
  },
  {
   "cell_type": "code",
   "execution_count": 41,
   "id": "935515c1",
   "metadata": {
    "execution": {
     "iopub.execute_input": "2023-12-01T14:25:12.667311Z",
     "iopub.status.busy": "2023-12-01T14:25:12.666929Z",
     "iopub.status.idle": "2023-12-01T14:25:13.370480Z",
     "shell.execute_reply": "2023-12-01T14:25:13.369347Z"
    },
    "papermill": {
     "duration": 0.741537,
     "end_time": "2023-12-01T14:25:13.373289",
     "exception": false,
     "start_time": "2023-12-01T14:25:12.631752",
     "status": "completed"
    },
    "tags": []
   },
   "outputs": [
    {
     "name": "stderr",
     "output_type": "stream",
     "text": [
      "/tmp/ipykernel_20/3978801799.py:2: UserWarning: \n",
      "\n",
      "`distplot` is a deprecated function and will be removed in seaborn v0.14.0.\n",
      "\n",
      "Please adapt your code to use either `displot` (a figure-level function with\n",
      "similar flexibility) or `histplot` (an axes-level function for histograms).\n",
      "\n",
      "For a guide to updating your code to use the new functions, please see\n",
      "https://gist.github.com/mwaskom/de44147ed2974457ad6372750bbe5751\n",
      "\n",
      "  sns.distplot(df['Parch'][df['Survived'] == 0], label=\"Not Survived\" , color = 'Blue')\n",
      "/tmp/ipykernel_20/3978801799.py:4: UserWarning: \n",
      "\n",
      "`distplot` is a deprecated function and will be removed in seaborn v0.14.0.\n",
      "\n",
      "Please adapt your code to use either `displot` (a figure-level function with\n",
      "similar flexibility) or `histplot` (an axes-level function for histograms).\n",
      "\n",
      "For a guide to updating your code to use the new functions, please see\n",
      "https://gist.github.com/mwaskom/de44147ed2974457ad6372750bbe5751\n",
      "\n",
      "  sns.distplot(df['Parch'][df['Survived'] == 1], label=\"Survived\" ,  color = 'Gold')\n"
     ]
    },
    {
     "data": {
      "image/png": "[encoded data removed]",
      "text/plain": [
       "<Figure size 640x480 with 1 Axes>"
      ]
     },
     "metadata": {},
     "output_type": "display_data"
    }
   ],
   "source": [
    "# Distribution plot for 'Parch' \n",
    "sns.distplot(df['Parch'][df['Survived'] == 0], label=\"Not Survived\" , color = 'Blue')\n",
    "\n",
    "sns.distplot(df['Parch'][df['Survived'] == 1], label=\"Survived\" ,  color = 'Gold')\n",
    "\n",
    "plt.xlabel('Parch')\n",
    "plt.ylabel('Density')  \n",
    "\n",
    "plt.legend()\n",
    "\n",
    "plt.show()"
   ]
  },
  {
   "cell_type": "code",
   "execution_count": 42,
   "id": "e78ae98d",
   "metadata": {
    "execution": {
     "iopub.execute_input": "2023-12-01T14:25:13.441469Z",
     "iopub.status.busy": "2023-12-01T14:25:13.441060Z",
     "iopub.status.idle": "2023-12-01T14:25:13.987917Z",
     "shell.execute_reply": "2023-12-01T14:25:13.986948Z"
    },
    "papermill": {
     "duration": 0.584116,
     "end_time": "2023-12-01T14:25:13.990598",
     "exception": false,
     "start_time": "2023-12-01T14:25:13.406482",
     "status": "completed"
    },
    "tags": []
   },
   "outputs": [
    {
     "name": "stderr",
     "output_type": "stream",
     "text": [
      "/tmp/ipykernel_20/3744509326.py:2: UserWarning: \n",
      "\n",
      "`distplot` is a deprecated function and will be removed in seaborn v0.14.0.\n",
      "\n",
      "Please adapt your code to use either `displot` (a figure-level function with\n",
      "similar flexibility) or `histplot` (an axes-level function for histograms).\n",
      "\n",
      "For a guide to updating your code to use the new functions, please see\n",
      "https://gist.github.com/mwaskom/de44147ed2974457ad6372750bbe5751\n",
      "\n",
      "  sns.distplot(df['Fare'][df['Survived'] == 0], label=\"Not Survived\" , color = 'Blue')\n",
      "/tmp/ipykernel_20/3744509326.py:5: UserWarning: \n",
      "\n",
      "`distplot` is a deprecated function and will be removed in seaborn v0.14.0.\n",
      "\n",
      "Please adapt your code to use either `displot` (a figure-level function with\n",
      "similar flexibility) or `histplot` (an axes-level function for histograms).\n",
      "\n",
      "For a guide to updating your code to use the new functions, please see\n",
      "https://gist.github.com/mwaskom/de44147ed2974457ad6372750bbe5751\n",
      "\n",
      "  sns.distplot(df['Fare'][df['Survived'] == 1], label=\"Survived\" ,  color = 'Gold')\n"
     ]
    },
    {
     "data": {
      "image/png": "[encoded data removed]",
      "text/plain": [
       "<Figure size 640x480 with 1 Axes>"
      ]
     },
     "metadata": {},
     "output_type": "display_data"
    }
   ],
   "source": [
    "# Distribution plot for 'Fare'\n",
    "sns.distplot(df['Fare'][df['Survived'] == 0], label=\"Not Survived\" , color = 'Blue')\n",
    "\n",
    "# Create a distribution plot for 'Age' when 'Survived' is 1 and label it as \"Survived\"\n",
    "sns.distplot(df['Fare'][df['Survived'] == 1], label=\"Survived\" ,  color = 'Gold')\n",
    "\n",
    "# Add labels to the x and y axes\n",
    "plt.xlabel('Fare')\n",
    "plt.ylabel('Density')  # You can change this label as needed\n",
    "\n",
    "# Add a legend to differentiate between \"Not Survived\" and \"Survived\"\n",
    "plt.legend()\n",
    "\n",
    "# Show the plots\n",
    "plt.show()"
   ]
  },
  {
   "cell_type": "code",
   "execution_count": 43,
   "id": "39d8572d",
   "metadata": {
    "execution": {
     "iopub.execute_input": "2023-12-01T14:25:14.062267Z",
     "iopub.status.busy": "2023-12-01T14:25:14.061832Z",
     "iopub.status.idle": "2023-12-01T14:25:14.292567Z",
     "shell.execute_reply": "2023-12-01T14:25:14.291157Z"
    },
    "papermill": {
     "duration": 0.269874,
     "end_time": "2023-12-01T14:25:14.295084",
     "exception": false,
     "start_time": "2023-12-01T14:25:14.025210",
     "status": "completed"
    },
    "tags": []
   },
   "outputs": [
    {
     "data": {
      "image/png": "[encoded data removed]",
      "text/plain": [
       "<Figure size 700x400 with 1 Axes>"
      ]
     },
     "metadata": {},
     "output_type": "display_data"
    }
   ],
   "source": [
    "# Count plot for 'Sex' \n",
    "plt.figure(figsize=(7, 4))\n",
    "custom_palette = {0: \"Blue\", 1: \"Gold\"}  \n",
    "sns.countplot(x='Sex', hue='Survived', data=df, palette=custom_palette)\n",
    "\n",
    "plt.xlabel('Gender (0: Male, 1: Female)')  \n",
    "plt.ylabel('Density')\n",
    "\n",
    "plt.legend(title='Survival', labels=['Not Survived', 'Survived'])\n",
    "\n",
    "plt.show()\n"
   ]
  },
  {
   "cell_type": "code",
   "execution_count": 44,
   "id": "5b082564",
   "metadata": {
    "execution": {
     "iopub.execute_input": "2023-12-01T14:25:14.381857Z",
     "iopub.status.busy": "2023-12-01T14:25:14.380730Z",
     "iopub.status.idle": "2023-12-01T14:25:15.007040Z",
     "shell.execute_reply": "2023-12-01T14:25:15.005821Z"
    },
    "papermill": {
     "duration": 0.680628,
     "end_time": "2023-12-01T14:25:15.010098",
     "exception": false,
     "start_time": "2023-12-01T14:25:14.329470",
     "status": "completed"
    },
    "scrolled": true,
    "tags": []
   },
   "outputs": [
    {
     "name": "stderr",
     "output_type": "stream",
     "text": [
      "/opt/conda/lib/python3.10/site-packages/seaborn/axisgrid.py:118: UserWarning: The figure layout has changed to tight\n",
      "  self._figure.tight_layout(*args, **kwargs)\n"
     ]
    },
    {
     "data": {
      "image/png": "[encoded data removed]",
      "text/plain": [
       "<Figure size 585.222x500 with 1 Axes>"
      ]
     },
     "metadata": {},
     "output_type": "display_data"
    }
   ],
   "source": [
    "#Categorical plot (catplot) for 'Embarked' vs. 'Survived'\n",
    "g = sns.catplot(data=df, x='Embarked', hue='Survived', kind='count', palette={0: 'Blue', 1: 'Gold'})\n",
    "\n",
    "g.set_axis_labels('Embarked', 'Density')\n",
    "plt.show()\n",
    "\n"
   ]
  },
  {
   "cell_type": "markdown",
   "id": "1c79594a",
   "metadata": {
    "papermill": {
     "duration": 0.035442,
     "end_time": "2023-12-01T14:25:15.080745",
     "exception": false,
     "start_time": "2023-12-01T14:25:15.045303",
     "status": "completed"
    },
    "tags": []
   },
   "source": [
    "<div style=\"text-align: center;\">\n",
    "  <h2>🗑️ Drop Unnecessary Columns</h2>\n",
    "</div>\n"
   ]
  },
  {
   "cell_type": "code",
   "execution_count": 45,
   "id": "16b2707c",
   "metadata": {
    "execution": {
     "iopub.execute_input": "2023-12-01T14:25:15.155189Z",
     "iopub.status.busy": "2023-12-01T14:25:15.154726Z",
     "iopub.status.idle": "2023-12-01T14:25:15.162142Z",
     "shell.execute_reply": "2023-12-01T14:25:15.160753Z"
    },
    "papermill": {
     "duration": 0.049334,
     "end_time": "2023-12-01T14:25:15.165293",
     "exception": false,
     "start_time": "2023-12-01T14:25:15.115959",
     "status": "completed"
    },
    "tags": []
   },
   "outputs": [],
   "source": [
    "# now drop unexeassary column\n",
    "df.drop(columns=['Ticket'],inplace=True)"
   ]
  },
  {
   "cell_type": "code",
   "execution_count": 46,
   "id": "3b4bb415",
   "metadata": {
    "execution": {
     "iopub.execute_input": "2023-12-01T14:25:15.238749Z",
     "iopub.status.busy": "2023-12-01T14:25:15.238279Z",
     "iopub.status.idle": "2023-12-01T14:25:15.245637Z",
     "shell.execute_reply": "2023-12-01T14:25:15.244415Z"
    },
    "papermill": {
     "duration": 0.046838,
     "end_time": "2023-12-01T14:25:15.248003",
     "exception": false,
     "start_time": "2023-12-01T14:25:15.201165",
     "status": "completed"
    },
    "tags": []
   },
   "outputs": [],
   "source": [
    "df.drop(columns=['Name'],inplace=True)"
   ]
  },
  {
   "cell_type": "code",
   "execution_count": 47,
   "id": "d7fbd09d",
   "metadata": {
    "execution": {
     "iopub.execute_input": "2023-12-01T14:25:15.323644Z",
     "iopub.status.busy": "2023-12-01T14:25:15.321225Z",
     "iopub.status.idle": "2023-12-01T14:25:15.335050Z",
     "shell.execute_reply": "2023-12-01T14:25:15.334133Z"
    },
    "papermill": {
     "duration": 0.052787,
     "end_time": "2023-12-01T14:25:15.337543",
     "exception": false,
     "start_time": "2023-12-01T14:25:15.284756",
     "status": "completed"
    },
    "tags": []
   },
   "outputs": [
    {
     "data": {
      "text/html": [
       "<div>\n",
       "<style scoped>\n",
       "    .dataframe tbody tr th:only-of-type {\n",
       "        vertical-align: middle;\n",
       "    }\n",
       "\n",
       "    .dataframe tbody tr th {\n",
       "        vertical-align: top;\n",
       "    }\n",
       "\n",
       "    .dataframe thead th {\n",
       "        text-align: right;\n",
       "    }\n",
       "</style>\n",
       "<table border=\"1\" class=\"dataframe\">\n",
       "  <thead>\n",
       "    <tr style=\"text-align: right;\">\n",
       "      <th></th>\n",
       "      <th>PassengerId</th>\n",
       "      <th>Survived</th>\n",
       "      <th>Pclass</th>\n",
       "      <th>Sex</th>\n",
       "      <th>Age</th>\n",
       "      <th>SibSp</th>\n",
       "      <th>Parch</th>\n",
       "      <th>Fare</th>\n",
       "      <th>Embarked</th>\n",
       "    </tr>\n",
       "  </thead>\n",
       "  <tbody>\n",
       "    <tr>\n",
       "      <th>0</th>\n",
       "      <td>892</td>\n",
       "      <td>0</td>\n",
       "      <td>3</td>\n",
       "      <td>0</td>\n",
       "      <td>3</td>\n",
       "      <td>0</td>\n",
       "      <td>0</td>\n",
       "      <td>1</td>\n",
       "      <td>1</td>\n",
       "    </tr>\n",
       "    <tr>\n",
       "      <th>1</th>\n",
       "      <td>893</td>\n",
       "      <td>1</td>\n",
       "      <td>3</td>\n",
       "      <td>1</td>\n",
       "      <td>47</td>\n",
       "      <td>1</td>\n",
       "      <td>0</td>\n",
       "      <td>0</td>\n",
       "      <td>2</td>\n",
       "    </tr>\n",
       "  </tbody>\n",
       "</table>\n",
       "</div>"
      ],
      "text/plain": [
       "   PassengerId  Survived  Pclass  Sex  Age  SibSp  Parch  Fare  Embarked\n",
       "0          892         0       3    0    3      0      0     1         1\n",
       "1          893         1       3    1   47      1      0     0         2"
      ]
     },
     "execution_count": 47,
     "metadata": {},
     "output_type": "execute_result"
    }
   ],
   "source": [
    "df.head(2)"
   ]
  },
  {
   "cell_type": "code",
   "execution_count": 48,
   "id": "2cddc72b",
   "metadata": {
    "execution": {
     "iopub.execute_input": "2023-12-01T14:25:15.415154Z",
     "iopub.status.busy": "2023-12-01T14:25:15.413801Z",
     "iopub.status.idle": "2023-12-01T14:25:15.428229Z",
     "shell.execute_reply": "2023-12-01T14:25:15.426792Z"
    },
    "papermill": {
     "duration": 0.05538,
     "end_time": "2023-12-01T14:25:15.430781",
     "exception": false,
     "start_time": "2023-12-01T14:25:15.375401",
     "status": "completed"
    },
    "tags": []
   },
   "outputs": [
    {
     "name": "stdout",
     "output_type": "stream",
     "text": [
      "<class 'pandas.core.frame.DataFrame'>\n",
      "RangeIndex: 418 entries, 0 to 417\n",
      "Data columns (total 9 columns):\n",
      " #   Column       Non-Null Count  Dtype\n",
      "---  ------       --------------  -----\n",
      " 0   PassengerId  418 non-null    int64\n",
      " 1   Survived     418 non-null    int64\n",
      " 2   Pclass       418 non-null    int64\n",
      " 3   Sex          418 non-null    int64\n",
      " 4   Age          418 non-null    int64\n",
      " 5   SibSp        418 non-null    int64\n",
      " 6   Parch        418 non-null    int64\n",
      " 7   Fare         418 non-null    int64\n",
      " 8   Embarked     418 non-null    int64\n",
      "dtypes: int64(9)\n",
      "memory usage: 29.5 KB\n"
     ]
    }
   ],
   "source": [
    "df.info()"
   ]
  },
  {
   "cell_type": "code",
   "execution_count": 49,
   "id": "d9b3fdfd",
   "metadata": {
    "execution": {
     "iopub.execute_input": "2023-12-01T14:25:15.506418Z",
     "iopub.status.busy": "2023-12-01T14:25:15.504818Z",
     "iopub.status.idle": "2023-12-01T14:25:15.528022Z",
     "shell.execute_reply": "2023-12-01T14:25:15.526673Z"
    },
    "papermill": {
     "duration": 0.063068,
     "end_time": "2023-12-01T14:25:15.530509",
     "exception": false,
     "start_time": "2023-12-01T14:25:15.467441",
     "status": "completed"
    },
    "tags": []
   },
   "outputs": [
    {
     "data": {
      "text/html": [
       "<div>\n",
       "<style scoped>\n",
       "    .dataframe tbody tr th:only-of-type {\n",
       "        vertical-align: middle;\n",
       "    }\n",
       "\n",
       "    .dataframe tbody tr th {\n",
       "        vertical-align: top;\n",
       "    }\n",
       "\n",
       "    .dataframe thead th {\n",
       "        text-align: right;\n",
       "    }\n",
       "</style>\n",
       "<table border=\"1\" class=\"dataframe\">\n",
       "  <thead>\n",
       "    <tr style=\"text-align: right;\">\n",
       "      <th></th>\n",
       "      <th>PassengerId</th>\n",
       "      <th>Survived</th>\n",
       "      <th>Pclass</th>\n",
       "      <th>Sex</th>\n",
       "      <th>Age</th>\n",
       "      <th>SibSp</th>\n",
       "      <th>Parch</th>\n",
       "      <th>Fare</th>\n",
       "      <th>Embarked</th>\n",
       "    </tr>\n",
       "  </thead>\n",
       "  <tbody>\n",
       "    <tr>\n",
       "      <th>0</th>\n",
       "      <td>False</td>\n",
       "      <td>False</td>\n",
       "      <td>False</td>\n",
       "      <td>False</td>\n",
       "      <td>False</td>\n",
       "      <td>False</td>\n",
       "      <td>False</td>\n",
       "      <td>False</td>\n",
       "      <td>False</td>\n",
       "    </tr>\n",
       "    <tr>\n",
       "      <th>1</th>\n",
       "      <td>False</td>\n",
       "      <td>False</td>\n",
       "      <td>False</td>\n",
       "      <td>False</td>\n",
       "      <td>False</td>\n",
       "      <td>False</td>\n",
       "      <td>False</td>\n",
       "      <td>False</td>\n",
       "      <td>False</td>\n",
       "    </tr>\n",
       "    <tr>\n",
       "      <th>2</th>\n",
       "      <td>False</td>\n",
       "      <td>False</td>\n",
       "      <td>False</td>\n",
       "      <td>False</td>\n",
       "      <td>False</td>\n",
       "      <td>False</td>\n",
       "      <td>False</td>\n",
       "      <td>False</td>\n",
       "      <td>False</td>\n",
       "    </tr>\n",
       "    <tr>\n",
       "      <th>3</th>\n",
       "      <td>False</td>\n",
       "      <td>False</td>\n",
       "      <td>False</td>\n",
       "      <td>False</td>\n",
       "      <td>False</td>\n",
       "      <td>False</td>\n",
       "      <td>False</td>\n",
       "      <td>False</td>\n",
       "      <td>False</td>\n",
       "    </tr>\n",
       "    <tr>\n",
       "      <th>4</th>\n",
       "      <td>False</td>\n",
       "      <td>False</td>\n",
       "      <td>False</td>\n",
       "      <td>False</td>\n",
       "      <td>False</td>\n",
       "      <td>False</td>\n",
       "      <td>False</td>\n",
       "      <td>False</td>\n",
       "      <td>False</td>\n",
       "    </tr>\n",
       "    <tr>\n",
       "      <th>...</th>\n",
       "      <td>...</td>\n",
       "      <td>...</td>\n",
       "      <td>...</td>\n",
       "      <td>...</td>\n",
       "      <td>...</td>\n",
       "      <td>...</td>\n",
       "      <td>...</td>\n",
       "      <td>...</td>\n",
       "      <td>...</td>\n",
       "    </tr>\n",
       "    <tr>\n",
       "      <th>413</th>\n",
       "      <td>False</td>\n",
       "      <td>False</td>\n",
       "      <td>False</td>\n",
       "      <td>False</td>\n",
       "      <td>False</td>\n",
       "      <td>False</td>\n",
       "      <td>False</td>\n",
       "      <td>False</td>\n",
       "      <td>False</td>\n",
       "    </tr>\n",
       "    <tr>\n",
       "      <th>414</th>\n",
       "      <td>False</td>\n",
       "      <td>False</td>\n",
       "      <td>False</td>\n",
       "      <td>False</td>\n",
       "      <td>False</td>\n",
       "      <td>False</td>\n",
       "      <td>False</td>\n",
       "      <td>False</td>\n",
       "      <td>False</td>\n",
       "    </tr>\n",
       "    <tr>\n",
       "      <th>415</th>\n",
       "      <td>False</td>\n",
       "      <td>False</td>\n",
       "      <td>False</td>\n",
       "      <td>False</td>\n",
       "      <td>False</td>\n",
       "      <td>False</td>\n",
       "      <td>False</td>\n",
       "      <td>False</td>\n",
       "      <td>False</td>\n",
       "    </tr>\n",
       "    <tr>\n",
       "      <th>416</th>\n",
       "      <td>False</td>\n",
       "      <td>False</td>\n",
       "      <td>False</td>\n",
       "      <td>False</td>\n",
       "      <td>False</td>\n",
       "      <td>False</td>\n",
       "      <td>False</td>\n",
       "      <td>False</td>\n",
       "      <td>False</td>\n",
       "    </tr>\n",
       "    <tr>\n",
       "      <th>417</th>\n",
       "      <td>False</td>\n",
       "      <td>False</td>\n",
       "      <td>False</td>\n",
       "      <td>False</td>\n",
       "      <td>False</td>\n",
       "      <td>False</td>\n",
       "      <td>False</td>\n",
       "      <td>False</td>\n",
       "      <td>False</td>\n",
       "    </tr>\n",
       "  </tbody>\n",
       "</table>\n",
       "<p>418 rows × 9 columns</p>\n",
       "</div>"
      ],
      "text/plain": [
       "     PassengerId  Survived  Pclass    Sex    Age  SibSp  Parch   Fare  \\\n",
       "0          False     False   False  False  False  False  False  False   \n",
       "1          False     False   False  False  False  False  False  False   \n",
       "2          False     False   False  False  False  False  False  False   \n",
       "3          False     False   False  False  False  False  False  False   \n",
       "4          False     False   False  False  False  False  False  False   \n",
       "..           ...       ...     ...    ...    ...    ...    ...    ...   \n",
       "413        False     False   False  False  False  False  False  False   \n",
       "414        False     False   False  False  False  False  False  False   \n",
       "415        False     False   False  False  False  False  False  False   \n",
       "416        False     False   False  False  False  False  False  False   \n",
       "417        False     False   False  False  False  False  False  False   \n",
       "\n",
       "     Embarked  \n",
       "0       False  \n",
       "1       False  \n",
       "2       False  \n",
       "3       False  \n",
       "4       False  \n",
       "..        ...  \n",
       "413     False  \n",
       "414     False  \n",
       "415     False  \n",
       "416     False  \n",
       "417     False  \n",
       "\n",
       "[418 rows x 9 columns]"
      ]
     },
     "execution_count": 49,
     "metadata": {},
     "output_type": "execute_result"
    }
   ],
   "source": [
    " df.isnull()"
   ]
  },
  {
   "cell_type": "markdown",
   "id": "6b14db67",
   "metadata": {
    "papermill": {
     "duration": 0.037499,
     "end_time": "2023-12-01T14:25:15.603968",
     "exception": false,
     "start_time": "2023-12-01T14:25:15.566469",
     "status": "completed"
    },
    "tags": []
   },
   "source": [
    "<div style=\"text-align: center;\">\n",
    "  <h2>🔀 Data Splitting</h2>\n",
    "</div>"
   ]
  },
  {
   "cell_type": "code",
   "execution_count": 50,
   "id": "1dc2e7ec",
   "metadata": {
    "execution": {
     "iopub.execute_input": "2023-12-01T14:25:15.678304Z",
     "iopub.status.busy": "2023-12-01T14:25:15.677875Z",
     "iopub.status.idle": "2023-12-01T14:25:15.684911Z",
     "shell.execute_reply": "2023-12-01T14:25:15.683392Z"
    },
    "papermill": {
     "duration": 0.047767,
     "end_time": "2023-12-01T14:25:15.687605",
     "exception": false,
     "start_time": "2023-12-01T14:25:15.639838",
     "status": "completed"
    },
    "tags": []
   },
   "outputs": [],
   "source": [
    "\n",
    "X_train = df.drop(['Survived', 'PassengerId'], axis=1)\n",
    "Y_train = df['Survived']\n"
   ]
  },
  {
   "cell_type": "code",
   "execution_count": 51,
   "id": "ef52be51",
   "metadata": {
    "execution": {
     "iopub.execute_input": "2023-12-01T14:25:15.762740Z",
     "iopub.status.busy": "2023-12-01T14:25:15.762163Z",
     "iopub.status.idle": "2023-12-01T14:25:15.768485Z",
     "shell.execute_reply": "2023-12-01T14:25:15.767387Z"
    },
    "papermill": {
     "duration": 0.047075,
     "end_time": "2023-12-01T14:25:15.770926",
     "exception": false,
     "start_time": "2023-12-01T14:25:15.723851",
     "status": "completed"
    },
    "tags": []
   },
   "outputs": [],
   "source": [
    "X_test =df.drop(['PassengerId' , 'Survived'] , axis = 1)"
   ]
  },
  {
   "cell_type": "markdown",
   "id": "68dd3c4d",
   "metadata": {
    "papermill": {
     "duration": 0.035969,
     "end_time": "2023-12-01T14:25:15.842808",
     "exception": false,
     "start_time": "2023-12-01T14:25:15.806839",
     "status": "completed"
    },
    "tags": []
   },
   "source": [
    "<div style=\"text-align: center;\">\n",
    "  <h2>🛠️ Model Building</h2>\n",
    "</div>\n",
    "\n",
    "Predicting Titanic survival is a classic Binary Classification problem where the goal is to determine whether a passenger survived (1) or did not survive (0) based on various features.Several machine learning models can be used for this task, including Logistic regression,SVM,KNN classifier,Gaussian Naive Bayes,Ridge Classifier."
   ]
  },
  {
   "cell_type": "code",
   "execution_count": 52,
   "id": "7d3de973",
   "metadata": {
    "execution": {
     "iopub.execute_input": "2023-12-01T14:25:15.918062Z",
     "iopub.status.busy": "2023-12-01T14:25:15.917615Z",
     "iopub.status.idle": "2023-12-01T14:25:15.948941Z",
     "shell.execute_reply": "2023-12-01T14:25:15.947544Z"
    },
    "papermill": {
     "duration": 0.073146,
     "end_time": "2023-12-01T14:25:15.951948",
     "exception": false,
     "start_time": "2023-12-01T14:25:15.878802",
     "status": "completed"
    },
    "tags": []
   },
   "outputs": [
    {
     "name": "stdout",
     "output_type": "stream",
     "text": [
      "Logistic Classifier Accuracy: 100.0 %\n"
     ]
    }
   ],
   "source": [
    "# Create an Logistic Classifier\n",
    "logistic_classifier = LogisticRegression(random_state=0)\n",
    "logistic_classifier.fit(X_train, Y_train)\n",
    "accuracy = logistic_classifier.score(X_train, Y_train)\n",
    "acc = round(accuracy * 100, 2)\n",
    "print(\"Logistic Classifier Accuracy:\" , acc,\"%\")"
   ]
  },
  {
   "cell_type": "code",
   "execution_count": 53,
   "id": "68686214",
   "metadata": {
    "execution": {
     "iopub.execute_input": "2023-12-01T14:25:16.027551Z",
     "iopub.status.busy": "2023-12-01T14:25:16.027123Z",
     "iopub.status.idle": "2023-12-01T14:25:16.056228Z",
     "shell.execute_reply": "2023-12-01T14:25:16.054768Z"
    },
    "papermill": {
     "duration": 0.070686,
     "end_time": "2023-12-01T14:25:16.059178",
     "exception": false,
     "start_time": "2023-12-01T14:25:15.988492",
     "status": "completed"
    },
    "tags": []
   },
   "outputs": [
    {
     "name": "stdout",
     "output_type": "stream",
     "text": [
      "SVM Classifier Accuracy: 63.64 %\n"
     ]
    }
   ],
   "source": [
    "# Create an SVM classifier\n",
    "svc_classifier = SVC()\n",
    "\n",
    "# Fit the classifier to your training data\n",
    "svc_classifier.fit(X_train, Y_train)\n",
    "svcacc= svc_classifier.score(X_train, Y_train)\n",
    "accuracy_svm = round(svcacc * 100, 2)\n",
    "print(\"SVM Classifier Accuracy:\", accuracy_svm,\"%\")\n"
   ]
  },
  {
   "cell_type": "code",
   "execution_count": 54,
   "id": "90bcbd27",
   "metadata": {
    "execution": {
     "iopub.execute_input": "2023-12-01T14:25:16.135143Z",
     "iopub.status.busy": "2023-12-01T14:25:16.134734Z",
     "iopub.status.idle": "2023-12-01T14:25:16.149810Z",
     "shell.execute_reply": "2023-12-01T14:25:16.148404Z"
    },
    "papermill": {
     "duration": 0.056379,
     "end_time": "2023-12-01T14:25:16.152234",
     "exception": false,
     "start_time": "2023-12-01T14:25:16.095855",
     "status": "completed"
    },
    "tags": []
   },
   "outputs": [
    {
     "name": "stdout",
     "output_type": "stream",
     "text": [
      "Gaussian Naive Bayes Classifier Accuracy: 100.0 %\n"
     ]
    }
   ],
   "source": [
    "# Create a Gaussian Naive Bayes classifier\n",
    "gnb_classifier = GaussianNB()\n",
    "gnb_classifier.fit(X_train, Y_train)\n",
    "gnb_acc = gnb_classifier.score(X_train, Y_train)\n",
    "accuracy_gnb = round(gnb_acc * 100, 2)\n",
    "\n",
    "print(\"Gaussian Naive Bayes Classifier Accuracy:\", accuracy_gnb,\"%\")\n"
   ]
  },
  {
   "cell_type": "code",
   "execution_count": 55,
   "id": "3780cd75",
   "metadata": {
    "execution": {
     "iopub.execute_input": "2023-12-01T14:25:16.227750Z",
     "iopub.status.busy": "2023-12-01T14:25:16.227275Z",
     "iopub.status.idle": "2023-12-01T14:25:16.261224Z",
     "shell.execute_reply": "2023-12-01T14:25:16.259900Z"
    },
    "papermill": {
     "duration": 0.075249,
     "end_time": "2023-12-01T14:25:16.263993",
     "exception": false,
     "start_time": "2023-12-01T14:25:16.188744",
     "status": "completed"
    },
    "tags": []
   },
   "outputs": [
    {
     "name": "stdout",
     "output_type": "stream",
     "text": [
      "Ridge Classifier Accuracy: 100.0 %\n"
     ]
    }
   ],
   "source": [
    "# Create a Ridge Classifier\n",
    "ridge_classifier = RidgeClassifier()\n",
    "\n",
    "ridge_classifier.fit(X_train, Y_train)\n",
    "ridge_acc = ridge_classifier.score(X_train, Y_train)\n",
    "accuracy_ridge = round(ridge_acc * 100, 2)\n",
    "\n",
    "print(\"Ridge Classifier Accuracy:\", accuracy_ridge,\"%\")\n"
   ]
  },
  {
   "cell_type": "code",
   "execution_count": 56,
   "id": "26c187a7",
   "metadata": {
    "execution": {
     "iopub.execute_input": "2023-12-01T14:25:16.340165Z",
     "iopub.status.busy": "2023-12-01T14:25:16.339762Z",
     "iopub.status.idle": "2023-12-01T14:25:16.385059Z",
     "shell.execute_reply": "2023-12-01T14:25:16.383485Z"
    },
    "papermill": {
     "duration": 0.086801,
     "end_time": "2023-12-01T14:25:16.387922",
     "exception": false,
     "start_time": "2023-12-01T14:25:16.301121",
     "status": "completed"
    },
    "tags": []
   },
   "outputs": [
    {
     "name": "stdout",
     "output_type": "stream",
     "text": [
      "K-Nearest Neighbors Classifier Accuracy: 94.02 %\n"
     ]
    }
   ],
   "source": [
    "\n",
    "# Create a KNN classifier\n",
    "knn_classifier = KNeighborsClassifier()\n",
    "\n",
    "knn_classifier.fit(X_train, Y_train)\n",
    "knn_acc = knn_classifier.score(X_train, Y_train)\n",
    "accuracy_knn = round(knn_acc * 100, 2)\n",
    "\n",
    "print(\"K-Nearest Neighbors Classifier Accuracy:\", accuracy_knn,\"%\")\n"
   ]
  },
  {
   "cell_type": "markdown",
   "id": "e1918739",
   "metadata": {
    "papermill": {
     "duration": 0.038735,
     "end_time": "2023-12-01T14:25:16.464382",
     "exception": false,
     "start_time": "2023-12-01T14:25:16.425647",
     "status": "completed"
    },
    "tags": []
   },
   "source": [
    "<div style=\"text-align: center;\">\n",
    "  <h2>🎯 Generating Predictions</h2>\n",
    "</div>"
   ]
  },
  {
   "cell_type": "code",
   "execution_count": 57,
   "id": "920ba8a3",
   "metadata": {
    "execution": {
     "iopub.execute_input": "2023-12-01T14:25:16.541576Z",
     "iopub.status.busy": "2023-12-01T14:25:16.541071Z",
     "iopub.status.idle": "2023-12-01T14:25:16.548576Z",
     "shell.execute_reply": "2023-12-01T14:25:16.547377Z"
    },
    "papermill": {
     "duration": 0.049995,
     "end_time": "2023-12-01T14:25:16.550951",
     "exception": false,
     "start_time": "2023-12-01T14:25:16.500956",
     "status": "completed"
    },
    "tags": []
   },
   "outputs": [],
   "source": [
    "\n",
    "Y_pred = ridge_classifier.predict(X_test)"
   ]
  },
  {
   "cell_type": "code",
   "execution_count": 58,
   "id": "8e48d330",
   "metadata": {
    "execution": {
     "iopub.execute_input": "2023-12-01T14:25:16.629877Z",
     "iopub.status.busy": "2023-12-01T14:25:16.628945Z",
     "iopub.status.idle": "2023-12-01T14:25:16.640117Z",
     "shell.execute_reply": "2023-12-01T14:25:16.639115Z"
    },
    "papermill": {
     "duration": 0.053883,
     "end_time": "2023-12-01T14:25:16.642708",
     "exception": false,
     "start_time": "2023-12-01T14:25:16.588825",
     "status": "completed"
    },
    "tags": []
   },
   "outputs": [],
   "source": [
    "output = pd.DataFrame({'PassengerId' : df.PassengerId , 'Survived': Y_pred})\n",
    "\n",
    "output.to_csv('my_submission.csv', index=False)\n",
    "\n"
   ]
  },
  {
   "cell_type": "code",
   "execution_count": 59,
   "id": "5074c5e9",
   "metadata": {
    "execution": {
     "iopub.execute_input": "2023-12-01T14:25:16.718765Z",
     "iopub.status.busy": "2023-12-01T14:25:16.718310Z",
     "iopub.status.idle": "2023-12-01T14:25:16.880268Z",
     "shell.execute_reply": "2023-12-01T14:25:16.878644Z"
    },
    "papermill": {
     "duration": 0.204315,
     "end_time": "2023-12-01T14:25:16.883239",
     "exception": false,
     "start_time": "2023-12-01T14:25:16.678924",
     "status": "completed"
    },
    "tags": []
   },
   "outputs": [
    {
     "data": {
      "image/png": "[encoded data removed]",
      "text/plain": [
       "<Figure size 300x100 with 1 Axes>"
      ]
     },
     "metadata": {},
     "output_type": "display_data"
    },
    {
     "data": {
      "text/html": [
       "<div>\n",
       "<style scoped>\n",
       "    .dataframe tbody tr th:only-of-type {\n",
       "        vertical-align: middle;\n",
       "    }\n",
       "\n",
       "    .dataframe tbody tr th {\n",
       "        vertical-align: top;\n",
       "    }\n",
       "\n",
       "    .dataframe thead th {\n",
       "        text-align: right;\n",
       "    }\n",
       "</style>\n",
       "<table border=\"1\" class=\"dataframe\">\n",
       "  <thead>\n",
       "    <tr style=\"text-align: right;\">\n",
       "      <th></th>\n",
       "      <th>PassengerId</th>\n",
       "      <th>Survived</th>\n",
       "    </tr>\n",
       "  </thead>\n",
       "  <tbody>\n",
       "    <tr>\n",
       "      <th>0</th>\n",
       "      <td>892</td>\n",
       "      <td>0</td>\n",
       "    </tr>\n",
       "    <tr>\n",
       "      <th>1</th>\n",
       "      <td>893</td>\n",
       "      <td>1</td>\n",
       "    </tr>\n",
       "    <tr>\n",
       "      <th>2</th>\n",
       "      <td>894</td>\n",
       "      <td>0</td>\n",
       "    </tr>\n",
       "    <tr>\n",
       "      <th>3</th>\n",
       "      <td>895</td>\n",
       "      <td>0</td>\n",
       "    </tr>\n",
       "    <tr>\n",
       "      <th>4</th>\n",
       "      <td>896</td>\n",
       "      <td>1</td>\n",
       "    </tr>\n",
       "    <tr>\n",
       "      <th>...</th>\n",
       "      <td>...</td>\n",
       "      <td>...</td>\n",
       "    </tr>\n",
       "    <tr>\n",
       "      <th>413</th>\n",
       "      <td>1305</td>\n",
       "      <td>0</td>\n",
       "    </tr>\n",
       "    <tr>\n",
       "      <th>414</th>\n",
       "      <td>1306</td>\n",
       "      <td>1</td>\n",
       "    </tr>\n",
       "    <tr>\n",
       "      <th>415</th>\n",
       "      <td>1307</td>\n",
       "      <td>0</td>\n",
       "    </tr>\n",
       "    <tr>\n",
       "      <th>416</th>\n",
       "      <td>1308</td>\n",
       "      <td>0</td>\n",
       "    </tr>\n",
       "    <tr>\n",
       "      <th>417</th>\n",
       "      <td>1309</td>\n",
       "      <td>0</td>\n",
       "    </tr>\n",
       "  </tbody>\n",
       "</table>\n",
       "<p>418 rows × 2 columns</p>\n",
       "</div>"
      ],
      "text/plain": [
       "     PassengerId  Survived\n",
       "0            892         0\n",
       "1            893         1\n",
       "2            894         0\n",
       "3            895         0\n",
       "4            896         1\n",
       "..           ...       ...\n",
       "413         1305         0\n",
       "414         1306         1\n",
       "415         1307         0\n",
       "416         1308         0\n",
       "417         1309         0\n",
       "\n",
       "[418 rows x 2 columns]"
      ]
     },
     "execution_count": 59,
     "metadata": {},
     "output_type": "execute_result"
    }
   ],
   "source": [
    "plt.figure(figsize=(3, 1))\n",
    "plt.axis('off')  # Turn off axis\n",
    "plt.text(0.2, 0.5, '0 = Not Survived', fontsize=12)\n",
    "plt.text(0.9, 0.5, '1 = Survived', fontsize=12)\n",
    "plt.show()\n",
    "output"
   ]
  }
 ],
 "metadata": {
  "kaggle": {
   "accelerator": "none",
   "dataSources": [
    {
     "datasetId": 826163,
     "sourceId": 2879186,
     "sourceType": "datasetVersion"
    }
   ],
   "dockerImageVersionId": 30558,
   "isGpuEnabled": false,
   "isInternetEnabled": false,
   "language": "python",
   "sourceType": "notebook"
  },
  "kernelspec": {
   "display_name": "Python 3",
   "language": "python",
   "name": "python3"
  },
  "language_info": {
   "codemirror_mode": {
    "name": "ipython",
    "version": 3
   },
   "file_extension": ".py",
   "mimetype": "text/x-python",
   "name": "python",
   "nbconvert_exporter": "python",
   "pygments_lexer": "ipython3",
   "version": "3.10.12"
  },
  "papermill": {
   "default_parameters": {},
   "duration": 19.464793,
   "end_time": "2023-12-01T14:25:17.644695",
   "environment_variables": {},
   "exception": null,
   "input_path": "__notebook__.ipynb",
   "output_path": "__notebook__.ipynb",
   "parameters": {},
   "start_time": "2023-12-01T14:24:58.179902",
   "version": "2.4.0"
  }
 },
 "nbformat": 4,
 "nbformat_minor": 5
}
